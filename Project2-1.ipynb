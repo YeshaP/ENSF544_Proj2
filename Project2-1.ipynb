{
 "cells": [
  {
   "cell_type": "markdown",
   "metadata": {
    "pycharm": {
     "name": "#%% md\n"
    }
   },
   "source": [
    "# Data Retreival"
   ]
  },
  {
   "cell_type": "code",
   "execution_count": 21,
   "metadata": {},
   "outputs": [],
   "source": [
    "from typing import Iterable\n",
    "import pandas as pd\n",
    "from IPython.core.display import display\n",
    "from sklearn.metrics import label_ranking_average_precision_score, ndcg_score\n",
    "from sklearn.metrics.pairwise import cosine_similarity\n",
    "from sklearn.feature_extraction.text import TfidfVectorizer\n",
    "from sklearn.model_selection import cross_val_predict\n",
    "\n",
    "def getRawData():\n",
    "    bug_report_raw=pd.read_pickle(\"Output/allBugReports.pickle\")\n",
    "    bug_report_raw = bug_report_raw[bug_report_raw['description'].notna()].reset_index()\n",
    "    display(bug_report_raw)\n",
    "\n",
    "    source_code_raw = pd.read_pickle(\"Output/allSourceCodes.pickle\")\n",
    "    source_code_raw = source_code_raw[source_code_raw['unprocessed_code'].notna()]\n",
    "    display(source_code_raw)\n",
    "    return bug_report_raw, source_code_raw"
   ]
  },
  {
   "cell_type": "markdown",
   "metadata": {},
   "source": [
    "# Cleaning the Data\n",
    "\n",
    "First, we clean up the discrepancies between the bug report dataset and source code dataset. Here, we remove the missing files so that the data will represent a more accurate analysis."
   ]
  },
  {
   "cell_type": "code",
   "execution_count": 22,
   "metadata": {
    "pycharm": {
     "name": "#%%\n"
    }
   },
   "outputs": [],
   "source": [
    "def filterBugReportsMissingFiles(bug_report_raw, source_code_raw):\n",
    "    source_file_names_dot_format=set(source_code_raw[\"filename\"].map(lambda fname:\"org\"+fname.partition(\"org\")[2].replace(\"\\\\\",\".\")).tolist())\n",
    "\n",
    "    # create copy of bug report dataframe\n",
    "    filter_missing_files = bug_report_raw.copy()\n",
    "\n",
    "    # return the filenames that appear in the source code dataframe only\n",
    "    for index, row in filter_missing_files.iterrows():\n",
    "        filter_missing_files.at[index, \"fix\"] = list(set(row['fix']).intersection(source_file_names_dot_format))\n",
    "\n",
    "    # filter out empty arrays\n",
    "    filter_missing_files = filter_missing_files[filter_missing_files.fix.str.len()>0]\n",
    "    return filter_missing_files"
   ]
  },
  {
   "cell_type": "markdown",
   "metadata": {
    "pycharm": {
     "name": "#%% md\n"
    }
   },
   "source": [
    "Next, we clean the textual data.  \n",
    "\n",
    "Snowball Stemmer is used since it is a more powerful stemmer than what is used by the research paper on IRFL (Porter Stemmer).\n",
    "  \n",
    "In addition to NLTK's stop words, Python and Java keywords have been removed to provide a better model for analysis. The Python keywords will come from a built-in library called \"keyword\", while Java language keywords will be extracted from a file provided by the original GitHub source found here: https://github.com/exatoa/Bench4BL/blob/master/scripts/languages.txt\n",
    "\n",
    "Camel case words such as setValue will be split into two words, \"set\" and \"Value\".\n",
    "\n",
    "All letters will be turned into lowercases so there would not be any distinction between \"Value\" and \"value\", for example."
   ]
  },
  {
   "cell_type": "code",
   "execution_count": 23,
   "metadata": {
    "pycharm": {
     "name": "#%%\n"
    }
   },
   "outputs": [],
   "source": [
    "import re, string\n",
    "import pandas as pd\n",
    "import numpy as np\n",
    "import keyword\n",
    "from sklearn.feature_extraction.text import ENGLISH_STOP_WORDS\n",
    "from nltk.stem.snowball import SnowballStemmer\n",
    "import matplotlib.pyplot as plt \n",
    "import html\n",
    "\n",
    "%matplotlib inline\n",
    "\n",
    "stemmer = SnowballStemmer(\"english\")\n",
    "\n",
    "java_keywords = None\n",
    "with open('languages.txt', 'r') as file:\n",
    "    java_keywords = file.read().split('\\n')\n",
    "\n",
    "# set for o(1) lookup performance\n",
    "stop_words = set(list(ENGLISH_STOP_WORDS) + keyword.kwlist + java_keywords)\n",
    "\n",
    "def clean_text(text):\n",
    "    # This is to remove the double html encodings such as &amp;apos; into simply &apos;.\n",
    "    # This html encoding is easier to convert into punctuation or special characters for removal.\n",
    "    text = text.replace(\"&amp;\", '&')\n",
    "    text = html.unescape(text)\n",
    "\n",
    "    # split words and return them if it is not in the stop words list\n",
    "    def getIndividualWords(all_text:str) ->Iterable[str]:\n",
    "        # this regex splits apart camel case variables.\n",
    "        # first half of | handles cases which are traditionally camel cased, or are just lower case.\n",
    "        # second half of | handles cases where its all capital letters, ie a variable named VARIABLE\n",
    "        # this also implicitly gets rid of any punctuation and any whitespace. This is because the regex\n",
    "        # skips over any non-letter characters\n",
    "        for word in re.findall('[A-Z]*[a-z]+|[A-Z]{2,}', all_text):\n",
    "            word_lower=word.lower()\n",
    "            if word_lower not in stop_words:\n",
    "                yield stemmer.stem(word_lower)\n",
    "\n",
    "    text=' '.join(getIndividualWords(text))\n",
    "    return text"
   ]
  },
  {
   "cell_type": "markdown",
   "metadata": {
    "pycharm": {
     "name": "#%% md\n"
    }
   },
   "source": [
    "The first two tables show the original dataset, while the next two show the newly processed dataset."
   ]
  },
  {
   "cell_type": "code",
   "execution_count": 24,
   "metadata": {
    "pycharm": {
     "name": "#%%\n"
    }
   },
   "outputs": [
    {
     "data": {
      "text/plain": "       id                                                fix text  \\\n0     217  [org.apache.commons.collections.map.flat3map.j...  NaN   \n1     214  [org.apache.commons.collections.testextendedpr...  NaN   \n2     222  [org.apache.commons.collections.testlistutils....  NaN   \n3     261  [org.apache.commons.collections.map.flat3map.j...  NaN   \n4     264  [org.apache.commons.collections.fasttreemap.java]  NaN   \n...   ...                                                ...  ...   \n1785  692  [org.wildfly.security.auth.realm.legacypropert...  NaN   \n1786  691  [org.wildfly.security.auth.realm.legacypropert...  NaN   \n1787  637  [org.wildfly.security.auth.server.serverauthen...  NaN   \n1788  757  [org.wildfly.security.ssl.sslauthenticationtes...  NaN   \n1789  808  [org.wildfly.security.auth.client.elytronxmlpa...  NaN   \n\n                  fixdate                                            summary  \\\n0     2006-07-18 22:02:11  Flat3Map.Entry.setValue() overwrites other Ent...   \n1     2006-07-18 22:44:33  ExtendedProperties - field include should be n...   \n2     2006-08-18 19:01:22    CollectionUtils removeAll is actually retainAll   \n3     2007-08-20 14:11:54  Flat3Map.remove() does not return the correct ...   \n4     2007-08-31 09:39:59                 FastTreeMap forgets the comparator   \n...                   ...                                                ...   \n1785  2016-11-02 09:35:48  Add tests for special chars in LegacyPropertie...   \n1786  2016-11-02 09:36:13  Elytron properties-realm is not compatible wit...   \n1787  2016-11-03 15:03:29  No log messages comming from Elytron - permiss...   \n1788  2016-11-21 09:24:47  Don&apos;t use String toUpperCase/toLowerCase ...   \n1789  2016-12-02 17:08:15                 XML Parsing Deferred into Function   \n\n                                            description      project  \\\n0     Flat3Map&amp;apos;s Entry objects will overwri...  COLLECTIONS   \n1     The field \"include\" in ExtendedProperties is c...  COLLECTIONS   \n2     The removeAll(Collection collection, Collectio...  COLLECTIONS   \n3             final Flat3Map m = new Flat3Map();\\n  ...  COLLECTIONS   \n4     In line 359 and 582 of the current 3.2 release...  COLLECTIONS   \n...                                                 ...          ...   \n1785  Add tests for issue https://issues.jboss.org/b...          ELY   \n1786  When users properties file (e.g. mgmt-users.pr...          ELY   \n1787  Elytron is missing any log messages related to...          ELY   \n1788  The String.toUpperCase() and String.toLowerCas...          ELY   \n1789  e.g.\\n\\n\\n\\n\\n\\n\\n                    case \"cl...          ELY   \n\n      average_precision  \n0                   0.0  \n1                   0.0  \n2                   0.0  \n3                   0.0  \n4                   0.0  \n...                 ...  \n1785                0.0  \n1786                0.0  \n1787                0.0  \n1788                0.0  \n1789                0.0  \n\n[1790 rows x 8 columns]",
      "text/html": "<div>\n<style scoped>\n    .dataframe tbody tr th:only-of-type {\n        vertical-align: middle;\n    }\n\n    .dataframe tbody tr th {\n        vertical-align: top;\n    }\n\n    .dataframe thead th {\n        text-align: right;\n    }\n</style>\n<table border=\"1\" class=\"dataframe\">\n  <thead>\n    <tr style=\"text-align: right;\">\n      <th></th>\n      <th>id</th>\n      <th>fix</th>\n      <th>text</th>\n      <th>fixdate</th>\n      <th>summary</th>\n      <th>description</th>\n      <th>project</th>\n      <th>average_precision</th>\n    </tr>\n  </thead>\n  <tbody>\n    <tr>\n      <th>0</th>\n      <td>217</td>\n      <td>[org.apache.commons.collections.map.flat3map.j...</td>\n      <td>NaN</td>\n      <td>2006-07-18 22:02:11</td>\n      <td>Flat3Map.Entry.setValue() overwrites other Ent...</td>\n      <td>Flat3Map&amp;amp;apos;s Entry objects will overwri...</td>\n      <td>COLLECTIONS</td>\n      <td>0.0</td>\n    </tr>\n    <tr>\n      <th>1</th>\n      <td>214</td>\n      <td>[org.apache.commons.collections.testextendedpr...</td>\n      <td>NaN</td>\n      <td>2006-07-18 22:44:33</td>\n      <td>ExtendedProperties - field include should be n...</td>\n      <td>The field \"include\" in ExtendedProperties is c...</td>\n      <td>COLLECTIONS</td>\n      <td>0.0</td>\n    </tr>\n    <tr>\n      <th>2</th>\n      <td>222</td>\n      <td>[org.apache.commons.collections.testlistutils....</td>\n      <td>NaN</td>\n      <td>2006-08-18 19:01:22</td>\n      <td>CollectionUtils removeAll is actually retainAll</td>\n      <td>The removeAll(Collection collection, Collectio...</td>\n      <td>COLLECTIONS</td>\n      <td>0.0</td>\n    </tr>\n    <tr>\n      <th>3</th>\n      <td>261</td>\n      <td>[org.apache.commons.collections.map.flat3map.j...</td>\n      <td>NaN</td>\n      <td>2007-08-20 14:11:54</td>\n      <td>Flat3Map.remove() does not return the correct ...</td>\n      <td>final Flat3Map m = new Flat3Map();\\n  ...</td>\n      <td>COLLECTIONS</td>\n      <td>0.0</td>\n    </tr>\n    <tr>\n      <th>4</th>\n      <td>264</td>\n      <td>[org.apache.commons.collections.fasttreemap.java]</td>\n      <td>NaN</td>\n      <td>2007-08-31 09:39:59</td>\n      <td>FastTreeMap forgets the comparator</td>\n      <td>In line 359 and 582 of the current 3.2 release...</td>\n      <td>COLLECTIONS</td>\n      <td>0.0</td>\n    </tr>\n    <tr>\n      <th>...</th>\n      <td>...</td>\n      <td>...</td>\n      <td>...</td>\n      <td>...</td>\n      <td>...</td>\n      <td>...</td>\n      <td>...</td>\n      <td>...</td>\n    </tr>\n    <tr>\n      <th>1785</th>\n      <td>692</td>\n      <td>[org.wildfly.security.auth.realm.legacypropert...</td>\n      <td>NaN</td>\n      <td>2016-11-02 09:35:48</td>\n      <td>Add tests for special chars in LegacyPropertie...</td>\n      <td>Add tests for issue https://issues.jboss.org/b...</td>\n      <td>ELY</td>\n      <td>0.0</td>\n    </tr>\n    <tr>\n      <th>1786</th>\n      <td>691</td>\n      <td>[org.wildfly.security.auth.realm.legacypropert...</td>\n      <td>NaN</td>\n      <td>2016-11-02 09:36:13</td>\n      <td>Elytron properties-realm is not compatible wit...</td>\n      <td>When users properties file (e.g. mgmt-users.pr...</td>\n      <td>ELY</td>\n      <td>0.0</td>\n    </tr>\n    <tr>\n      <th>1787</th>\n      <td>637</td>\n      <td>[org.wildfly.security.auth.server.serverauthen...</td>\n      <td>NaN</td>\n      <td>2016-11-03 15:03:29</td>\n      <td>No log messages comming from Elytron - permiss...</td>\n      <td>Elytron is missing any log messages related to...</td>\n      <td>ELY</td>\n      <td>0.0</td>\n    </tr>\n    <tr>\n      <th>1788</th>\n      <td>757</td>\n      <td>[org.wildfly.security.ssl.sslauthenticationtes...</td>\n      <td>NaN</td>\n      <td>2016-11-21 09:24:47</td>\n      <td>Don&amp;apos;t use String toUpperCase/toLowerCase ...</td>\n      <td>The String.toUpperCase() and String.toLowerCas...</td>\n      <td>ELY</td>\n      <td>0.0</td>\n    </tr>\n    <tr>\n      <th>1789</th>\n      <td>808</td>\n      <td>[org.wildfly.security.auth.client.elytronxmlpa...</td>\n      <td>NaN</td>\n      <td>2016-12-02 17:08:15</td>\n      <td>XML Parsing Deferred into Function</td>\n      <td>e.g.\\n\\n\\n\\n\\n\\n\\n                    case \"cl...</td>\n      <td>ELY</td>\n      <td>0.0</td>\n    </tr>\n  </tbody>\n</table>\n<p>1790 rows × 8 columns</p>\n</div>"
     },
     "metadata": {},
     "output_type": "display_data"
    },
    {
     "data": {
      "text/plain": "                                             filename  \\\n0   \\gitrepo\\src\\java\\org\\apache\\commons\\collectio...   \n1   \\gitrepo\\src\\java\\org\\apache\\commons\\collectio...   \n2   \\gitrepo\\src\\java\\org\\apache\\commons\\collectio...   \n3   \\gitrepo\\src\\java\\org\\apache\\commons\\collectio...   \n4   \\gitrepo\\src\\java\\org\\apache\\commons\\collectio...   \n..                                                ...   \n63  \\gitrepo\\src\\main\\java\\org\\wildfly\\security\\ut...   \n64  \\gitrepo\\src\\main\\java\\org\\wildfly\\security\\_p...   \n65  \\gitrepo\\src\\test\\java\\org\\wildfly\\security\\ma...   \n66  \\gitrepo\\src\\test\\java\\org\\wildfly\\security\\ma...   \n67  \\gitrepo\\src\\test\\java\\org\\wildfly\\security\\ss...   \n\n                                     unprocessed_code      project  \n0   /*\\n *  Licensed to the Apache Software Founda...  COLLECTIONS  \n1   /*\\n *  Licensed to the Apache Software Founda...  COLLECTIONS  \n2   /*\\n *  Licensed to the Apache Software Founda...  COLLECTIONS  \n3   /*\\n *  Licensed to the Apache Software Founda...  COLLECTIONS  \n4   /*\\n *  Licensed to the Apache Software Founda...  COLLECTIONS  \n..                                                ...          ...  \n63  /*\\n * JBoss, Home of Professional Open Source...          ELY  \n64  /*\\n * JBoss, Home of Professional Open Source...          ELY  \n65  /*\\n * JBoss, Home of Professional Open Source...          ELY  \n66  /*\\n * JBoss, Home of Professional Open Source...          ELY  \n67  /*\\n * JBoss, Home of Professional Open Source...          ELY  \n\n[10461 rows x 3 columns]",
      "text/html": "<div>\n<style scoped>\n    .dataframe tbody tr th:only-of-type {\n        vertical-align: middle;\n    }\n\n    .dataframe tbody tr th {\n        vertical-align: top;\n    }\n\n    .dataframe thead th {\n        text-align: right;\n    }\n</style>\n<table border=\"1\" class=\"dataframe\">\n  <thead>\n    <tr style=\"text-align: right;\">\n      <th></th>\n      <th>filename</th>\n      <th>unprocessed_code</th>\n      <th>project</th>\n    </tr>\n  </thead>\n  <tbody>\n    <tr>\n      <th>0</th>\n      <td>\\gitrepo\\src\\java\\org\\apache\\commons\\collectio...</td>\n      <td>/*\\n *  Licensed to the Apache Software Founda...</td>\n      <td>COLLECTIONS</td>\n    </tr>\n    <tr>\n      <th>1</th>\n      <td>\\gitrepo\\src\\java\\org\\apache\\commons\\collectio...</td>\n      <td>/*\\n *  Licensed to the Apache Software Founda...</td>\n      <td>COLLECTIONS</td>\n    </tr>\n    <tr>\n      <th>2</th>\n      <td>\\gitrepo\\src\\java\\org\\apache\\commons\\collectio...</td>\n      <td>/*\\n *  Licensed to the Apache Software Founda...</td>\n      <td>COLLECTIONS</td>\n    </tr>\n    <tr>\n      <th>3</th>\n      <td>\\gitrepo\\src\\java\\org\\apache\\commons\\collectio...</td>\n      <td>/*\\n *  Licensed to the Apache Software Founda...</td>\n      <td>COLLECTIONS</td>\n    </tr>\n    <tr>\n      <th>4</th>\n      <td>\\gitrepo\\src\\java\\org\\apache\\commons\\collectio...</td>\n      <td>/*\\n *  Licensed to the Apache Software Founda...</td>\n      <td>COLLECTIONS</td>\n    </tr>\n    <tr>\n      <th>...</th>\n      <td>...</td>\n      <td>...</td>\n      <td>...</td>\n    </tr>\n    <tr>\n      <th>63</th>\n      <td>\\gitrepo\\src\\main\\java\\org\\wildfly\\security\\ut...</td>\n      <td>/*\\n * JBoss, Home of Professional Open Source...</td>\n      <td>ELY</td>\n    </tr>\n    <tr>\n      <th>64</th>\n      <td>\\gitrepo\\src\\main\\java\\org\\wildfly\\security\\_p...</td>\n      <td>/*\\n * JBoss, Home of Professional Open Source...</td>\n      <td>ELY</td>\n    </tr>\n    <tr>\n      <th>65</th>\n      <td>\\gitrepo\\src\\test\\java\\org\\wildfly\\security\\ma...</td>\n      <td>/*\\n * JBoss, Home of Professional Open Source...</td>\n      <td>ELY</td>\n    </tr>\n    <tr>\n      <th>66</th>\n      <td>\\gitrepo\\src\\test\\java\\org\\wildfly\\security\\ma...</td>\n      <td>/*\\n * JBoss, Home of Professional Open Source...</td>\n      <td>ELY</td>\n    </tr>\n    <tr>\n      <th>67</th>\n      <td>\\gitrepo\\src\\test\\java\\org\\wildfly\\security\\ss...</td>\n      <td>/*\\n * JBoss, Home of Professional Open Source...</td>\n      <td>ELY</td>\n    </tr>\n  </tbody>\n</table>\n<p>10461 rows × 3 columns</p>\n</div>"
     },
     "metadata": {},
     "output_type": "display_data"
    },
    {
     "data": {
      "text/plain": "                                                    fix  \\\n0     [org.apache.commons.collections.map.flat3map.j...   \n1     [org.apache.commons.collections.extendedproper...   \n2     [org.apache.commons.collections.testlistutils....   \n3     [org.apache.commons.collections.map.flat3map.j...   \n4     [org.apache.commons.collections.fasttreemap.java]   \n...                                                 ...   \n1770  [org.wildfly.security.manager.wildflysecuritym...   \n1771  [org.wildfly.security.ssl.ciphersuiteselector....   \n1783  [org.wildfly.security._private.elytronmessages...   \n1784           [org.wildfly.security.ssl.protocol.java]   \n1787  [org.wildfly.security._private.elytronmessages...   \n\n                                          processed_all      project  \n0     flat map s entri object overwrit entri s valu ...  COLLECTIONS  \n1     field includ extend properti current instanc s...  COLLECTIONS  \n2     remov collect collect collect remov method cal...  COLLECTIONS  \n3     flat map m flat map m integ integ m integ inte...  COLLECTIONS  \n4     line current releas replac map tree map map tr...  COLLECTIONS  \n...                                                 ...          ...  \n1770  infinit loop elytron permiss collect read reso...          ELY  \n1771  cipher suit avail handshak https undertow list...          ELY  \n1783  elytron miss log messag relat group assign log...          ELY  \n1784  protocol type list descript enabl protocol exp...          ELY  \n1787  elytron miss log messag relat permiss assign l...          ELY  \n\n[1402 rows x 3 columns]",
      "text/html": "<div>\n<style scoped>\n    .dataframe tbody tr th:only-of-type {\n        vertical-align: middle;\n    }\n\n    .dataframe tbody tr th {\n        vertical-align: top;\n    }\n\n    .dataframe thead th {\n        text-align: right;\n    }\n</style>\n<table border=\"1\" class=\"dataframe\">\n  <thead>\n    <tr style=\"text-align: right;\">\n      <th></th>\n      <th>fix</th>\n      <th>processed_all</th>\n      <th>project</th>\n    </tr>\n  </thead>\n  <tbody>\n    <tr>\n      <th>0</th>\n      <td>[org.apache.commons.collections.map.flat3map.j...</td>\n      <td>flat map s entri object overwrit entri s valu ...</td>\n      <td>COLLECTIONS</td>\n    </tr>\n    <tr>\n      <th>1</th>\n      <td>[org.apache.commons.collections.extendedproper...</td>\n      <td>field includ extend properti current instanc s...</td>\n      <td>COLLECTIONS</td>\n    </tr>\n    <tr>\n      <th>2</th>\n      <td>[org.apache.commons.collections.testlistutils....</td>\n      <td>remov collect collect collect remov method cal...</td>\n      <td>COLLECTIONS</td>\n    </tr>\n    <tr>\n      <th>3</th>\n      <td>[org.apache.commons.collections.map.flat3map.j...</td>\n      <td>flat map m flat map m integ integ m integ inte...</td>\n      <td>COLLECTIONS</td>\n    </tr>\n    <tr>\n      <th>4</th>\n      <td>[org.apache.commons.collections.fasttreemap.java]</td>\n      <td>line current releas replac map tree map map tr...</td>\n      <td>COLLECTIONS</td>\n    </tr>\n    <tr>\n      <th>...</th>\n      <td>...</td>\n      <td>...</td>\n      <td>...</td>\n    </tr>\n    <tr>\n      <th>1770</th>\n      <td>[org.wildfly.security.manager.wildflysecuritym...</td>\n      <td>infinit loop elytron permiss collect read reso...</td>\n      <td>ELY</td>\n    </tr>\n    <tr>\n      <th>1771</th>\n      <td>[org.wildfly.security.ssl.ciphersuiteselector....</td>\n      <td>cipher suit avail handshak https undertow list...</td>\n      <td>ELY</td>\n    </tr>\n    <tr>\n      <th>1783</th>\n      <td>[org.wildfly.security._private.elytronmessages...</td>\n      <td>elytron miss log messag relat group assign log...</td>\n      <td>ELY</td>\n    </tr>\n    <tr>\n      <th>1784</th>\n      <td>[org.wildfly.security.ssl.protocol.java]</td>\n      <td>protocol type list descript enabl protocol exp...</td>\n      <td>ELY</td>\n    </tr>\n    <tr>\n      <th>1787</th>\n      <td>[org.wildfly.security._private.elytronmessages...</td>\n      <td>elytron miss log messag relat permiss assign l...</td>\n      <td>ELY</td>\n    </tr>\n  </tbody>\n</table>\n<p>1402 rows × 3 columns</p>\n</div>"
     },
     "metadata": {},
     "output_type": "display_data"
    },
    {
     "data": {
      "text/plain": "                                             filename  \\\n0   \\gitrepo\\src\\java\\org\\apache\\commons\\collectio...   \n1   \\gitrepo\\src\\java\\org\\apache\\commons\\collectio...   \n2   \\gitrepo\\src\\java\\org\\apache\\commons\\collectio...   \n3   \\gitrepo\\src\\java\\org\\apache\\commons\\collectio...   \n4   \\gitrepo\\src\\java\\org\\apache\\commons\\collectio...   \n..                                                ...   \n63  \\gitrepo\\src\\main\\java\\org\\wildfly\\security\\ut...   \n64  \\gitrepo\\src\\main\\java\\org\\wildfly\\security\\_p...   \n65  \\gitrepo\\src\\test\\java\\org\\wildfly\\security\\ma...   \n66  \\gitrepo\\src\\test\\java\\org\\wildfly\\security\\ma...   \n67  \\gitrepo\\src\\test\\java\\org\\wildfly\\security\\ss...   \n\n                                       processed_code      project  \n0   licens apach softwar foundat asf contributor l...  COLLECTIONS  \n1   licens apach softwar foundat asf contributor l...  COLLECTIONS  \n2   licens apach softwar foundat asf contributor l...  COLLECTIONS  \n3   licens apach softwar foundat asf contributor l...  COLLECTIONS  \n4   licens apach softwar foundat asf contributor l...  COLLECTIONS  \n..                                                ...          ...  \n63  jboss home profession open sourc copyright red...          ELY  \n64  jboss home profession open sourc copyright red...          ELY  \n65  jboss home profession open sourc copyright red...          ELY  \n66  jboss home profession open sourc copyright red...          ELY  \n67  jboss home profession open sourc copyright red...          ELY  \n\n[10461 rows x 3 columns]",
      "text/html": "<div>\n<style scoped>\n    .dataframe tbody tr th:only-of-type {\n        vertical-align: middle;\n    }\n\n    .dataframe tbody tr th {\n        vertical-align: top;\n    }\n\n    .dataframe thead th {\n        text-align: right;\n    }\n</style>\n<table border=\"1\" class=\"dataframe\">\n  <thead>\n    <tr style=\"text-align: right;\">\n      <th></th>\n      <th>filename</th>\n      <th>processed_code</th>\n      <th>project</th>\n    </tr>\n  </thead>\n  <tbody>\n    <tr>\n      <th>0</th>\n      <td>\\gitrepo\\src\\java\\org\\apache\\commons\\collectio...</td>\n      <td>licens apach softwar foundat asf contributor l...</td>\n      <td>COLLECTIONS</td>\n    </tr>\n    <tr>\n      <th>1</th>\n      <td>\\gitrepo\\src\\java\\org\\apache\\commons\\collectio...</td>\n      <td>licens apach softwar foundat asf contributor l...</td>\n      <td>COLLECTIONS</td>\n    </tr>\n    <tr>\n      <th>2</th>\n      <td>\\gitrepo\\src\\java\\org\\apache\\commons\\collectio...</td>\n      <td>licens apach softwar foundat asf contributor l...</td>\n      <td>COLLECTIONS</td>\n    </tr>\n    <tr>\n      <th>3</th>\n      <td>\\gitrepo\\src\\java\\org\\apache\\commons\\collectio...</td>\n      <td>licens apach softwar foundat asf contributor l...</td>\n      <td>COLLECTIONS</td>\n    </tr>\n    <tr>\n      <th>4</th>\n      <td>\\gitrepo\\src\\java\\org\\apache\\commons\\collectio...</td>\n      <td>licens apach softwar foundat asf contributor l...</td>\n      <td>COLLECTIONS</td>\n    </tr>\n    <tr>\n      <th>...</th>\n      <td>...</td>\n      <td>...</td>\n      <td>...</td>\n    </tr>\n    <tr>\n      <th>63</th>\n      <td>\\gitrepo\\src\\main\\java\\org\\wildfly\\security\\ut...</td>\n      <td>jboss home profession open sourc copyright red...</td>\n      <td>ELY</td>\n    </tr>\n    <tr>\n      <th>64</th>\n      <td>\\gitrepo\\src\\main\\java\\org\\wildfly\\security\\_p...</td>\n      <td>jboss home profession open sourc copyright red...</td>\n      <td>ELY</td>\n    </tr>\n    <tr>\n      <th>65</th>\n      <td>\\gitrepo\\src\\test\\java\\org\\wildfly\\security\\ma...</td>\n      <td>jboss home profession open sourc copyright red...</td>\n      <td>ELY</td>\n    </tr>\n    <tr>\n      <th>66</th>\n      <td>\\gitrepo\\src\\test\\java\\org\\wildfly\\security\\ma...</td>\n      <td>jboss home profession open sourc copyright red...</td>\n      <td>ELY</td>\n    </tr>\n    <tr>\n      <th>67</th>\n      <td>\\gitrepo\\src\\test\\java\\org\\wildfly\\security\\ss...</td>\n      <td>jboss home profession open sourc copyright red...</td>\n      <td>ELY</td>\n    </tr>\n  </tbody>\n</table>\n<p>10461 rows × 3 columns</p>\n</div>"
     },
     "metadata": {},
     "output_type": "display_data"
    }
   ],
   "source": [
    "def getProcessedData():\n",
    "    bug_report_raw,source_code_raw=getRawData()\n",
    "    filter_missing_files=filterBugReportsMissingFiles(bug_report_raw,source_code_raw)\n",
    "    filter_missing_files[\"processed_description\"]=filter_missing_files[\"description\"].map(clean_text)\n",
    "    filter_missing_files[\"processed_summary\"]=filter_missing_files[\"summary\"].map(clean_text)\n",
    "    filter_missing_files[\"processed_all\"]=filter_missing_files[\"processed_description\"] + filter_missing_files[\"processed_summary\"]\n",
    "    filter_missing_files=filter_missing_files[[\"fix\",\"processed_all\",\"project\"]]\n",
    "    display(filter_missing_files)\n",
    "    source_code_raw[\"processed_code\"]=source_code_raw[\"unprocessed_code\"].map(clean_text)\n",
    "    source_code_raw=source_code_raw[[\"filename\",\"processed_code\",\"project\"]]\n",
    "    display(source_code_raw)\n",
    "    return filter_missing_files, source_code_raw\n",
    "\n",
    "processed_bug_report,processed_source_code=getProcessedData()"
   ]
  },
  {
   "cell_type": "markdown",
   "metadata": {
    "pycharm": {
     "name": "#%% md\n"
    }
   },
   "source": [
    "# Analyzing the Data\n",
    "After processing the data in the files, creating a label matrix is the next step. Each row of this matrix is for a bug report, and each column represents a source code file. A value of 1 is assigned to a cell if the file was changed to fix the bug. On the other hand, the value would be 0 if the file did not need to be changed to fix the bug."
   ]
  },
  {
   "cell_type": "code",
   "execution_count": 25,
   "metadata": {
    "pycharm": {
     "name": "#%%\n"
    }
   },
   "outputs": [
    {
     "data": {
      "text/plain": "array([[0, 0, 0, ..., 0, 0, 0],\n       [0, 0, 0, ..., 0, 0, 0],\n       [0, 0, 0, ..., 0, 0, 0],\n       ...,\n       [0, 0, 0, ..., 0, 0, 0],\n       [0, 0, 0, ..., 0, 0, 0],\n       [0, 0, 0, ..., 0, 0, 0]], dtype=int8)"
     },
     "execution_count": 25,
     "metadata": {},
     "output_type": "execute_result"
    }
   ],
   "source": [
    "from scipy.sparse import lil_matrix\n",
    "\n",
    "def getLabelsForBugReport()->np.ndarray:\n",
    "    source_file_names_dot_format=processed_source_code[\"filename\"].map(lambda fname:\"org\"+fname.partition(\"org\")[2].replace(\"\\\\\",\".\"))\n",
    "\n",
    "    fileToIndex={}\n",
    "    for idx,value in enumerate(source_file_names_dot_format.values):\n",
    "        fileToIndex[value]=idx\n",
    "    num_files=len(source_file_names_dot_format)\n",
    "    num_bug_reports=len(processed_bug_report[\"fix\"])\n",
    "    matrix=lil_matrix((num_bug_reports,num_files))\n",
    "    for idx,file_names in enumerate(processed_bug_report[\"fix\"]):\n",
    "        for file_name in list(file_names):\n",
    "            try:\n",
    "                matrix[idx,fileToIndex[file_name]]=1\n",
    "            except KeyError:\n",
    "                # note, there are many files which were 'fixes' in bug reports, but where not in the tar files given on d2l.\n",
    "                # we would assume then that the tar files posted on d2l were probably missing some source files (our theory\n",
    "                # is the source code is from an older version of the software)\n",
    "                pass\n",
    "    return matrix.toarray().astype(dtype=np.byte)\n",
    "\n",
    "\n",
    "\n",
    "labels=getLabelsForBugReport()\n",
    "labels"
   ]
  },
  {
   "cell_type": "markdown",
   "metadata": {},
   "source": [
    "## Method 1\n",
    "In this section, we actually call our Method 1. In this method, we essentially have a basic implementation of the direct comparison section of BugLocator. \n",
    "\n",
    "Here, we directly compare the similarity of the bug report with the source code to see common terminology. For instance, if the bug report has the word 'view' in it, then it would weigh bug reports with the word 'view' in it more highly.\n",
    "\n",
    "To implement this aproach, we essentialy followed 3 steps:\n",
    "\n",
    "1. Create a TF-IDF vectroizer and fit it using all processed source files. Additionally, transform each source file. This would create the 'index' of our search.\n",
    "2. Transform the individual bug reports, using the TF-IDF vectorizer. Each word in the queried bug report would be weighed with respect to their frequency in the source code files (using the TFidf formula).\n",
    "3. The final probabilities are determined by the cosine similarity betwen each bug report output, and each soure file output."
   ]
  },
  {
   "cell_type": "code",
   "execution_count": 26,
   "metadata": {
    "pycharm": {
     "name": "#%%\n"
    }
   },
   "outputs": [
    {
     "data": {
      "text/plain": "array([[7.0022695e-02, 7.8413337e-02, 6.3099363e-03, ..., 7.6404080e-02,\n        1.0094738e-03, 9.2371544e-03],\n       [1.0229222e-02, 2.0810194e-02, 4.0001511e-03, ..., 2.4627144e-02,\n        1.4500899e-03, 1.1205714e-03],\n       [1.2235726e-01, 2.9669881e-01, 1.8591043e-02, ..., 8.8671310e-04,\n        0.0000000e+00, 0.0000000e+00],\n       ...,\n       [9.7305859e-03, 0.0000000e+00, 5.2097691e-03, ..., 7.2505022e-04,\n        3.5328723e-03, 0.0000000e+00],\n       [5.1287296e-03, 8.6231045e-03, 4.3011745e-03, ..., 1.9452300e-02,\n        7.0119724e-03, 3.5170473e-02],\n       [1.1014157e-02, 3.1867839e-04, 5.7557570e-03, ..., 5.3458628e-03,\n        4.6678884e-03, 2.1181855e-04]], dtype=float32)"
     },
     "execution_count": 26,
     "metadata": {},
     "output_type": "execute_result"
    }
   ],
   "source": [
    "\n",
    "method1_vectorizer=TfidfVectorizer()\n",
    "method1_code_vector=method1_vectorizer.fit_transform(processed_source_code[\"processed_code\"].to_numpy())\n",
    "def method1(bug_report):\n",
    "    query_vector=method1_vectorizer.transform(bug_report[\"processed_all\"].to_numpy())\n",
    "    result = cosine_similarity(query_vector,method1_code_vector).astype(dtype=np.float32)\n",
    "    return result\n",
    "\n",
    "similarities1=method1(processed_bug_report)\n",
    "similarities1"
   ]
  },
  {
   "cell_type": "code",
   "execution_count": 27,
   "outputs": [
    {
     "name": "stdout",
     "output_type": "stream",
     "text": [
      "fit\n",
      "fit\n",
      "fit\n",
      "fit\n",
      "fit\n"
     ]
    },
    {
     "data": {
      "text/plain": "array([[1., 1., 1., ..., 1., 1., 1.],\n       [1., 1., 1., ..., 1., 1., 1.],\n       [1., 1., 1., ..., 1., 1., 1.],\n       ...,\n       [1., 1., 1., ..., 1., 1., 1.],\n       [1., 1., 1., ..., 1., 1., 1.],\n       [1., 1., 1., ..., 1., 1., 1.]], dtype=float32)"
     },
     "execution_count": 27,
     "metadata": {},
     "output_type": "execute_result"
    }
   ],
   "source": [
    "\n",
    "class Method2Evaluator:\n",
    "    def get_params(self,**kwargs):\n",
    "        return {}\n",
    "\n",
    "    def set_params(self):\n",
    "        pass\n",
    "\n",
    "    def fit(self, X:pd.DataFrame, y:np.ndarray):\n",
    "        print(\"fit\")\n",
    "        pass\n",
    "\n",
    "    def predict(self,X:pd.DataFrame)->np.ndarray:\n",
    "        return np.ones((X.shape[0],similarities1.shape[1])).astype(np.float32)\n",
    "\n",
    "similarities2=cross_val_predict(Method2Evaluator(),processed_bug_report,labels)\n",
    "similarities2"
   ],
   "metadata": {
    "collapsed": false,
    "pycharm": {
     "name": "#%%\n"
    }
   }
  },
  {
   "cell_type": "code",
   "execution_count": 28,
   "outputs": [
    {
     "name": "stdout",
     "output_type": "stream",
     "text": [
      "fit\n",
      "fit\n",
      "fit\n",
      "fit\n",
      "fit\n"
     ]
    },
    {
     "data": {
      "text/plain": "array([[0., 0., 0., ..., 0., 0., 0.],\n       [0., 0., 0., ..., 0., 0., 0.],\n       [0., 0., 0., ..., 0., 0., 0.],\n       ...,\n       [0., 0., 0., ..., 0., 0., 0.],\n       [0., 0., 0., ..., 0., 0., 0.],\n       [0., 0., 0., ..., 0., 0., 0.]], dtype=float32)"
     },
     "execution_count": 28,
     "metadata": {},
     "output_type": "execute_result"
    }
   ],
   "source": [
    "class Method3Evaluator:\n",
    "    def get_params(self,**kwargs):\n",
    "        return {}\n",
    "\n",
    "    def set_params(self):\n",
    "        pass\n",
    "\n",
    "    def fit(self, X:pd.DataFrame, y:np.ndarray):\n",
    "        print(\"fit\")\n",
    "        pass\n",
    "\n",
    "    def predict(self,X:pd.DataFrame)->np.ndarray:\n",
    "        return np.zeros((X.shape[0],similarities1.shape[1])).astype(np.float32)\n",
    "\n",
    "similarities3=cross_val_predict(Method3Evaluator(),processed_bug_report,labels)\n",
    "similarities3"
   ],
   "metadata": {
    "collapsed": false,
    "pycharm": {
     "name": "#%%\n"
    }
   }
  },
  {
   "cell_type": "markdown",
   "metadata": {},
   "source": [
    "## Scoring\n",
    "To score our methodology, we used 3 different rankings:\n",
    "1. Mean Reciprocal Rank (MRR)\n",
    "2. Mean Average Precision (MAP)\n",
    "3. Normalized Discounted Cumulative Gain (NDCG)\n",
    "\n",
    "Each of these methodologies have their own pros and cons, which will be explained below."
   ]
  },
  {
   "cell_type": "markdown",
   "metadata": {
    "pycharm": {
     "name": "#%% md\n"
    }
   },
   "source": [
    "### Mean Reciprocal Rank (MRR)\n",
    "\n",
    "Out of the three rankings listed above, MRR is the simplest and uses binary relevance metrics. The general algorithm of MRR is as follows:\n",
    "\n",
    "1. Create list of recommendations\n",
    "2. Rank the first relevant recommendation\n",
    "3. Compute the reciprocal rank\n",
    "\n",
    "To implement the MRR algorithm, we first filter out the input labels to only include the label with the maximum similarity. Every other label is set to 0. We then call the label_ranking_average_precision_score, using these filtered input labels. \n",
    "\n",
    "While this method is simple and easy to interpret, it equally weighs lists regardless if it has one relevant item or multiple relevant items.\n",
    "\n",
    "This methodology is identical to MRR as label_ranking_average_precision_score will be used. However, this is only true for  when there is a single input label. This is due to how the MRR algorithm only accounts for the highest ranked label. This is due to how the MRR algorithm only accounts for the highest ranked label. (source: https://medium.com/swlh/rank-aware-recsys-evaluation-metrics-5191bba16832)\n",
    "\n",
    "See  https://scikit-learn.org/stable/modules/model_evaluation.html#label-ranking-average-precision for more details."
   ]
  },
  {
   "cell_type": "code",
   "execution_count": 29,
   "metadata": {
    "pycharm": {
     "name": "#%%\n"
    }
   },
   "outputs": [
    {
     "name": "stdout",
     "output_type": "stream",
     "text": [
      "mrr method1: 0.33702405192970786\n",
      "mrr method2: 9.559315553006537e-05\n",
      "mrr method3: 9.559315553006537e-05\n"
     ]
    }
   ],
   "source": [
    "top_indices_list = range(5,51,5)\n",
    "\n",
    "\n",
    "def getMrrValue(denseLabels:np.ndarray, similarities:np.ndarray):\n",
    "    # first, create a version of the labels which only has the maximum label value.\n",
    "    similarities_with_labels=denseLabels*similarities\n",
    "    max_valued_label_indexes=np.argmax(similarities_with_labels,axis=1)\n",
    "    max_similar_labels=np.zeros_like(similarities_with_labels,dtype=np.byte)\n",
    "    max_similar_labels[np.arange(len(similarities_with_labels)),max_valued_label_indexes]=1\n",
    "\n",
    "    # then simply call label_ranking_average_precision_score, but only with the maximum labels.\n",
    "    # this will make it equivalent to mrr, according to sklearns documentation.\n",
    "    # see https://scikit-learn.org/stable/modules/model_evaluation.html#label-ranking-average-precision\n",
    "    return label_ranking_average_precision_score(max_similar_labels,similarities)\n",
    "\n",
    "print(f\"mrr method1: {getMrrValue(labels,similarities1)}\")\n",
    "print(f\"mrr method2: {getMrrValue(labels,similarities2)}\")\n",
    "print(f\"mrr method3: {getMrrValue(labels,similarities3)}\")"
   ]
  },
  {
   "cell_type": "markdown",
   "metadata": {
    "pycharm": {
     "name": "#%% md\n"
    }
   },
   "source": [
    "### Mean Average Precision (MAP)\n",
    "\n",
    "This method of evaluation takes the mean value of average precision values across all bug reports. The algorithm of this method is as follows (source: https://medium.com/swlh/rank-aware-recsys-evaluation-metrics-5191bba16832):\n",
    "\n",
    "For each user:\n",
    "- for each relevant item:\n",
    "    - compute precision of the list of that item\n",
    "- average the precisions of each sub-list\n",
    "\n",
    "This method weighs lists more reasonably, where more weight is given to errors that appear early in a recommended list. However, this is not suitable for fine-grained numerical ratings as it cannot extract any more info on the errors.\n",
    "\n",
    "To implement this, we simply used scikit-learn's label_ranking_average_precision_score method for the whole matrix."
   ]
  },
  {
   "cell_type": "code",
   "execution_count": 30,
   "metadata": {
    "pycharm": {
     "name": "#%%\n"
    }
   },
   "outputs": [
    {
     "name": "stdout",
     "output_type": "stream",
     "text": [
      "map method1: 0.24728994889504494\n",
      "map method2: 0.00025193773871867747\n",
      "map method3: 0.00025193773871867747\n"
     ]
    }
   ],
   "source": [
    "def getMAPValue(denseLabels:np.ndarray,similarities:np.ndarray):\n",
    "    # simply call sklearns label_ranking_average_precision_score\n",
    "    # while they are explained differently, and use different terminology in their explanations,\n",
    "    # they are mathematically equivalent.\n",
    "    return label_ranking_average_precision_score(denseLabels,similarities)\n",
    "\n",
    "\n",
    "print(f\"map method1: {getMAPValue(labels,similarities1)}\")\n",
    "print(f\"map method2: {getMAPValue(labels,similarities2)}\")\n",
    "print(f\"map method3: {getMAPValue(labels,similarities3)}\")"
   ]
  },
  {
   "cell_type": "markdown",
   "metadata": {
    "pycharm": {
     "name": "#%% md\n"
    }
   },
   "source": [
    "### Normalized Discounted Cumulative Gain (NDCG)\n",
    "\n",
    "This metric is similar to MAP, wherein they both highly value relevant documents within recommended lists. The difference, however, is that NDCG has finer tuning for evaluating the list. As such, it knows that some items in the list are more relevant than others.\n",
    "\n",
    "As NDCG is a slightly more complex version of MAP, it is able to evaluate the position of ranked items better. \n",
    "\n",
    "To implement NDCG, we simply used scikil-learns ndcg_score (source: https://medium.com/swlh/rank-aware-recsys-evaluation-metrics-5191bba16832)"
   ]
  },
  {
   "cell_type": "code",
   "execution_count": 31,
   "metadata": {
    "pycharm": {
     "name": "#%%\n"
    }
   },
   "outputs": [
    {
     "name": "stdout",
     "output_type": "stream",
     "text": [
      "NDCG method1: 0.4231306498624228\n",
      "NDCG method2: 0.1096146548108727\n",
      "NDCG method3: 0.1096146548108727\n"
     ]
    }
   ],
   "source": [
    "\n",
    "def getNDCGValue(denseLabels:np.ndarray,similarities:np.ndarray,num_considered=None):\n",
    "    # https://scikit-learn.org/stable/modules/generated/sklearn.metrics.ndcg_score.html\n",
    "    return ndcg_score(denseLabels,similarities,k=num_considered)\n",
    "\n",
    "print(f\"NDCG method1: {getNDCGValue(labels,similarities1)}\")\n",
    "print(f\"NDCG method2: {getNDCGValue(labels,similarities2)}\")\n",
    "print(f\"NDCG method3: {getNDCGValue(labels,similarities3)}\")"
   ]
  },
  {
   "cell_type": "markdown",
   "metadata": {
    "pycharm": {
     "name": "#%% md\n"
    }
   },
   "source": [
    "# Plotting the Data\n",
    "\n",
    "## Graphing NDCG\n",
    "For NDCG, we will look at the trend between the number of recommendations versus the NDCG score. Multiples of 5 for number of recommmendations is used "
   ]
  },
  {
   "cell_type": "code",
   "execution_count": 32,
   "outputs": [
    {
     "data": {
      "text/plain": "   number_recommendations   method1   method2   method3\n0                       5  0.259015  0.000391  0.000391\n1                      10  0.294381  0.000569  0.000569\n2                      15  0.311474  0.000725  0.000725\n3                      20  0.325335  0.000865  0.000865\n4                      25  0.333313  0.000996  0.000996\n5                      30  0.339104  0.001121  0.001121\n6                      35  0.345128  0.001240  0.001240\n7                      40  0.349615  0.001355  0.001355\n8                      45  0.353282  0.001466  0.001466\n9                      50  0.356670  0.001575  0.001575",
      "text/html": "<div>\n<style scoped>\n    .dataframe tbody tr th:only-of-type {\n        vertical-align: middle;\n    }\n\n    .dataframe tbody tr th {\n        vertical-align: top;\n    }\n\n    .dataframe thead th {\n        text-align: right;\n    }\n</style>\n<table border=\"1\" class=\"dataframe\">\n  <thead>\n    <tr style=\"text-align: right;\">\n      <th></th>\n      <th>number_recommendations</th>\n      <th>method1</th>\n      <th>method2</th>\n      <th>method3</th>\n    </tr>\n  </thead>\n  <tbody>\n    <tr>\n      <th>0</th>\n      <td>5</td>\n      <td>0.259015</td>\n      <td>0.000391</td>\n      <td>0.000391</td>\n    </tr>\n    <tr>\n      <th>1</th>\n      <td>10</td>\n      <td>0.294381</td>\n      <td>0.000569</td>\n      <td>0.000569</td>\n    </tr>\n    <tr>\n      <th>2</th>\n      <td>15</td>\n      <td>0.311474</td>\n      <td>0.000725</td>\n      <td>0.000725</td>\n    </tr>\n    <tr>\n      <th>3</th>\n      <td>20</td>\n      <td>0.325335</td>\n      <td>0.000865</td>\n      <td>0.000865</td>\n    </tr>\n    <tr>\n      <th>4</th>\n      <td>25</td>\n      <td>0.333313</td>\n      <td>0.000996</td>\n      <td>0.000996</td>\n    </tr>\n    <tr>\n      <th>5</th>\n      <td>30</td>\n      <td>0.339104</td>\n      <td>0.001121</td>\n      <td>0.001121</td>\n    </tr>\n    <tr>\n      <th>6</th>\n      <td>35</td>\n      <td>0.345128</td>\n      <td>0.001240</td>\n      <td>0.001240</td>\n    </tr>\n    <tr>\n      <th>7</th>\n      <td>40</td>\n      <td>0.349615</td>\n      <td>0.001355</td>\n      <td>0.001355</td>\n    </tr>\n    <tr>\n      <th>8</th>\n      <td>45</td>\n      <td>0.353282</td>\n      <td>0.001466</td>\n      <td>0.001466</td>\n    </tr>\n    <tr>\n      <th>9</th>\n      <td>50</td>\n      <td>0.356670</td>\n      <td>0.001575</td>\n      <td>0.001575</td>\n    </tr>\n  </tbody>\n</table>\n</div>"
     },
     "execution_count": 32,
     "metadata": {},
     "output_type": "execute_result"
    }
   ],
   "source": [
    "ndcg_score_df=pd.DataFrame([\n",
    "    {\n",
    "        \"number_recommendations\":top_k_index,\n",
    "        \"method1\":getNDCGValue(labels,similarities1,top_k_index),\n",
    "        \"method2\":getNDCGValue(labels,similarities2,top_k_index),\n",
    "        \"method3\":getNDCGValue(labels,similarities3,top_k_index)\n",
    "    } for top_k_index in top_indices_list])\n",
    "ndcg_score_df"
   ],
   "metadata": {
    "collapsed": false,
    "pycharm": {
     "name": "#%%\n"
    }
   }
  },
  {
   "cell_type": "code",
   "execution_count": 33,
   "outputs": [
    {
     "data": {
      "text/plain": "<Figure size 432x288 with 1 Axes>",
      "image/png": "[encoded data removed]"
     },
     "metadata": {
      "needs_background": "light"
     },
     "output_type": "display_data"
    }
   ],
   "source": [
    "fig, ax = plt.subplots()\n",
    "plt.bar(ndcg_score_df[\"number_recommendations\"],ndcg_score_df[\"method1\"])\n",
    "plt.xticks(ndcg_score_df[\"number_recommendations\"])\n",
    "plt.title(\"NDCG Score VS. Number Recommendations\")\n",
    "plt.xlabel(\"Number Of Recommendations\")\n",
    "plt.ylabel(\"NDCG Score\")\n",
    "plt.show()"
   ],
   "metadata": {
    "collapsed": false,
    "pycharm": {
     "name": "#%%\n"
    }
   }
  },
  {
   "cell_type": "markdown",
   "source": [
    "As can be seen in the graph above, the NDGC score increases as the number of recommendations increase. "
   ],
   "metadata": {
    "collapsed": false
   }
  },
  {
   "cell_type": "markdown",
   "source": [
    "## Graphing MRR and MAP\n",
    "\n",
    "As both MRR and MAP are affected by indices, we shall compare the two metrics together. Multiples of 5 for indices are also used to compute the scores for MRR and MAP and are shown in the line graph below."
   ],
   "metadata": {
    "collapsed": false
   }
  },
  {
   "cell_type": "code",
   "execution_count": 39,
   "outputs": [
    {
     "data": {
      "text/plain": "'mrr'"
     },
     "metadata": {},
     "output_type": "display_data"
    },
    {
     "data": {
      "text/plain": "   number_recommendations   method1   method2   method3\n0                       5  0.862363  0.200000  0.200000\n1                      10  0.765809  0.100000  0.100000\n2                      15  0.712658  0.066667  0.066667\n3                      20  0.674950  0.050000  0.050000\n4                      25  0.649689  0.040000  0.040000\n5                      30  0.633191  0.033333  0.033333\n6                      35  0.611752  0.028571  0.028571\n7                      40  0.599946  0.025000  0.025000\n8                      45  0.588802  0.022222  0.022222\n9                      50  0.576230  0.020000  0.020000",
      "text/html": "<div>\n<style scoped>\n    .dataframe tbody tr th:only-of-type {\n        vertical-align: middle;\n    }\n\n    .dataframe tbody tr th {\n        vertical-align: top;\n    }\n\n    .dataframe thead th {\n        text-align: right;\n    }\n</style>\n<table border=\"1\" class=\"dataframe\">\n  <thead>\n    <tr style=\"text-align: right;\">\n      <th></th>\n      <th>number_recommendations</th>\n      <th>method1</th>\n      <th>method2</th>\n      <th>method3</th>\n    </tr>\n  </thead>\n  <tbody>\n    <tr>\n      <th>0</th>\n      <td>5</td>\n      <td>0.862363</td>\n      <td>0.200000</td>\n      <td>0.200000</td>\n    </tr>\n    <tr>\n      <th>1</th>\n      <td>10</td>\n      <td>0.765809</td>\n      <td>0.100000</td>\n      <td>0.100000</td>\n    </tr>\n    <tr>\n      <th>2</th>\n      <td>15</td>\n      <td>0.712658</td>\n      <td>0.066667</td>\n      <td>0.066667</td>\n    </tr>\n    <tr>\n      <th>3</th>\n      <td>20</td>\n      <td>0.674950</td>\n      <td>0.050000</td>\n      <td>0.050000</td>\n    </tr>\n    <tr>\n      <th>4</th>\n      <td>25</td>\n      <td>0.649689</td>\n      <td>0.040000</td>\n      <td>0.040000</td>\n    </tr>\n    <tr>\n      <th>5</th>\n      <td>30</td>\n      <td>0.633191</td>\n      <td>0.033333</td>\n      <td>0.033333</td>\n    </tr>\n    <tr>\n      <th>6</th>\n      <td>35</td>\n      <td>0.611752</td>\n      <td>0.028571</td>\n      <td>0.028571</td>\n    </tr>\n    <tr>\n      <th>7</th>\n      <td>40</td>\n      <td>0.599946</td>\n      <td>0.025000</td>\n      <td>0.025000</td>\n    </tr>\n    <tr>\n      <th>8</th>\n      <td>45</td>\n      <td>0.588802</td>\n      <td>0.022222</td>\n      <td>0.022222</td>\n    </tr>\n    <tr>\n      <th>9</th>\n      <td>50</td>\n      <td>0.576230</td>\n      <td>0.020000</td>\n      <td>0.020000</td>\n    </tr>\n  </tbody>\n</table>\n</div>"
     },
     "metadata": {},
     "output_type": "display_data"
    },
    {
     "data": {
      "text/plain": "'map'"
     },
     "metadata": {},
     "output_type": "display_data"
    },
    {
     "data": {
      "text/plain": "   number_recommendations   method1   method2   method3\n0                       5  0.855324  0.999429  0.999429\n1                      10  0.743394  0.998787  0.998787\n2                      15  0.682959  0.998716  0.998716\n3                      20  0.637145  0.998003  0.998003\n4                      25  0.606310  0.997974  0.997974\n5                      30  0.586401  0.996624  0.996624\n6                      35  0.561520  0.996597  0.996597\n7                      40  0.546379  0.996576  0.996576\n8                      45  0.531772  0.996560  0.996560\n9                      50  0.516934  0.995849  0.995849",
      "text/html": "<div>\n<style scoped>\n    .dataframe tbody tr th:only-of-type {\n        vertical-align: middle;\n    }\n\n    .dataframe tbody tr th {\n        vertical-align: top;\n    }\n\n    .dataframe thead th {\n        text-align: right;\n    }\n</style>\n<table border=\"1\" class=\"dataframe\">\n  <thead>\n    <tr style=\"text-align: right;\">\n      <th></th>\n      <th>number_recommendations</th>\n      <th>method1</th>\n      <th>method2</th>\n      <th>method3</th>\n    </tr>\n  </thead>\n  <tbody>\n    <tr>\n      <th>0</th>\n      <td>5</td>\n      <td>0.855324</td>\n      <td>0.999429</td>\n      <td>0.999429</td>\n    </tr>\n    <tr>\n      <th>1</th>\n      <td>10</td>\n      <td>0.743394</td>\n      <td>0.998787</td>\n      <td>0.998787</td>\n    </tr>\n    <tr>\n      <th>2</th>\n      <td>15</td>\n      <td>0.682959</td>\n      <td>0.998716</td>\n      <td>0.998716</td>\n    </tr>\n    <tr>\n      <th>3</th>\n      <td>20</td>\n      <td>0.637145</td>\n      <td>0.998003</td>\n      <td>0.998003</td>\n    </tr>\n    <tr>\n      <th>4</th>\n      <td>25</td>\n      <td>0.606310</td>\n      <td>0.997974</td>\n      <td>0.997974</td>\n    </tr>\n    <tr>\n      <th>5</th>\n      <td>30</td>\n      <td>0.586401</td>\n      <td>0.996624</td>\n      <td>0.996624</td>\n    </tr>\n    <tr>\n      <th>6</th>\n      <td>35</td>\n      <td>0.561520</td>\n      <td>0.996597</td>\n      <td>0.996597</td>\n    </tr>\n    <tr>\n      <th>7</th>\n      <td>40</td>\n      <td>0.546379</td>\n      <td>0.996576</td>\n      <td>0.996576</td>\n    </tr>\n    <tr>\n      <th>8</th>\n      <td>45</td>\n      <td>0.531772</td>\n      <td>0.996560</td>\n      <td>0.996560</td>\n    </tr>\n    <tr>\n      <th>9</th>\n      <td>50</td>\n      <td>0.516934</td>\n      <td>0.995849</td>\n      <td>0.995849</td>\n    </tr>\n  </tbody>\n</table>\n</div>"
     },
     "metadata": {},
     "output_type": "display_data"
    }
   ],
   "source": [
    "# pre correction\n",
    "\n",
    "# def get_top_k_indices(matrix, k):\n",
    "#     return np.argsort(matrix)[-k:]\n",
    "#\n",
    "# def getTopIndexesMrrMap():\n",
    "#     mrr_dict,map_dict={\"number_recommendations\":top_indices_list},{\"number_recommendations\":top_indices_list}\n",
    "#\n",
    "#     for methodNumber,similarities in enumerate((similarities1,similarities2,similarities3),1):\n",
    "#         indices = [list(reversed(get_top_k_indices(row, 50).tolist())) for row in similarities]\n",
    "#         top_values = [[similarities[row, col] for col in item] for row, item in enumerate(indices)]\n",
    "#         top_labels = [[labels[row, col] for col in item] for row, item in enumerate(indices)]\n",
    "#         mrr_dict[f\"method{methodNumber}\"] = [getMrrValue(np.array(top_labels[:index]), np.array(top_values[:index])) for index in top_indices_list]\n",
    "#         map_dict[f\"method{methodNumber}\"] = [getMAPValue(top_labels[:index], top_values[:index]) for index in top_indices_list]\n",
    "#\n",
    "#     return pd.DataFrame(mrr_dict), pd.DataFrame(map_dict)\n",
    "\n",
    "\n",
    "def get_top_k_indices(matrix, k):\n",
    "    #                                 reverse\n",
    "    return np.argsort(matrix)[:,-k:][:,::-1]\n",
    "\n",
    "def getTopIndexesMrrMap():\n",
    "    mrr_dict,map_dict={\"number_recommendations\":top_indices_list},{\"number_recommendations\":top_indices_list}\n",
    "\n",
    "    for methodNumber,similarities in enumerate((similarities1,similarities2,similarities3),1):\n",
    "        indices = get_top_k_indices(similarities, 50)\n",
    "        top_values=np.take_along_axis(similarities, indices,axis=1)\n",
    "        top_labels=np.take_along_axis(labels, indices,axis=1)\n",
    "        mrr_dict[f\"method{methodNumber}\"] = [getMrrValue(top_labels[:, :index], top_values[:,:index]) for index in top_indices_list]\n",
    "        map_dict[f\"method{methodNumber}\"] = [getMAPValue(top_labels[:, :index], top_values[:,:index]) for index in top_indices_list]\n",
    "\n",
    "    return pd.DataFrame(mrr_dict), pd.DataFrame(map_dict)\n",
    "\n",
    "mrr_score_df,map_score_df=getTopIndexesMrrMap()\n",
    "display(\"mrr\")\n",
    "display(mrr_score_df)\n",
    "display(\"map\")\n",
    "display(map_score_df)"
   ],
   "metadata": {
    "collapsed": false,
    "pycharm": {
     "name": "#%%\n"
    }
   }
  },
  {
   "cell_type": "code",
   "execution_count": 35,
   "outputs": [
    {
     "data": {
      "text/plain": "<Figure size 432x288 with 1 Axes>",
      "image/png": "[encoded data removed]"
     },
     "metadata": {
      "needs_background": "light"
     },
     "output_type": "display_data"
    }
   ],
   "source": [
    "# todo have map and mrr separate\n",
    "plt.plot(top_indices_list, map_score_df[\"method1\"], label = \"MAP Score For Top Recommendations\")\n",
    "plt.plot(top_indices_list, mrr_score_df[\"method1\"], label = \"MRR Score For Top Recommendations\")\n",
    "plt.xlabel('Top K Indices')\n",
    "plt.ylabel('Score')\n",
    "plt.title(\"Scores for Top K Indices\")\n",
    "plt.legend()\n",
    "plt.show()"
   ],
   "metadata": {
    "collapsed": false,
    "pycharm": {
     "name": "#%%\n"
    }
   }
  },
  {
   "cell_type": "markdown",
   "source": [
    "Based on the graph above, MRR performs better than MAP by roughly 10%. Additionally, as the number of indicies increases, the scores also increase."
   ],
   "metadata": {
    "collapsed": false,
    "pycharm": {
     "name": "#%% md\n"
    }
   }
  }
 ],
 "metadata": {
  "kernelspec": {
   "display_name": "Python 3",
   "language": "python",
   "name": "python3"
  },
  "language_info": {
   "codemirror_mode": {
    "name": "ipython",
    "version": 3
   },
   "file_extension": ".py",
   "mimetype": "text/x-python",
   "name": "python",
   "nbconvert_exporter": "python",
   "pygments_lexer": "ipython3",
   "version": "3.8.5"
  }
 },
 "nbformat": 4,
 "nbformat_minor": 4
}
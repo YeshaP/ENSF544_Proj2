{
 "cells": [
  {
   "cell_type": "code",
   "execution_count": 13,
   "metadata": {},
   "outputs": [],
   "source": [
    "from typing import Iterable\n",
    "import pandas as pd\n",
    "from IPython.core.display import display\n",
    "from sklearn.metrics import label_ranking_average_precision_score, ndcg_score\n",
    "from sklearn.metrics.pairwise import cosine_similarity\n",
    "from sklearn.feature_extraction.text import TfidfVectorizer\n",
    "\n",
    "def getRawData():\n",
    "    bug_report_raw=pd.read_pickle(\"Output/allBugReports.pickle\")\n",
    "    bug_report_raw = bug_report_raw[bug_report_raw['description'].notna()].reset_index()\n",
    "    display(bug_report_raw)\n",
    "\n",
    "    source_code_raw = pd.read_pickle(\"Output/allSourceCodes.pickle\")\n",
    "    source_code_raw = source_code_raw[source_code_raw['unprocessed_code'].notna()]\n",
    "    display(source_code_raw)\n",
    "    return bug_report_raw, source_code_raw"
   ]
  },
  {
   "cell_type": "code",
   "execution_count": 2,
   "metadata": {
    "pycharm": {
     "name": "#%%\n"
    }
   },
   "outputs": [],
   "source": [
    "def filterBugReportsMissingFiles(bug_report_raw, source_code_raw):\n",
    "    source_file_names_dot_format=set(source_code_raw[\"filename\"].map(lambda fname:\"org\"+fname.partition(\"org\")[2].replace(\"\\\\\",\".\")).tolist())\n",
    "\n",
    "    # create copy of bug report dataframe\n",
    "    filter_missing_files = bug_report_raw.copy()\n",
    "\n",
    "    # return the filenames that appear in the source code dataframe only\n",
    "    for index, row in filter_missing_files.iterrows():\n",
    "        filter_missing_files.at[index, \"fix\"] = list(set(row['fix']).intersection(source_file_names_dot_format))\n",
    "\n",
    "    # filter out empty arrays\n",
    "    filter_missing_files = filter_missing_files[filter_missing_files.fix.str.len()>0]\n",
    "    return filter_missing_files"
   ]
  },
  {
   "cell_type": "markdown",
   "metadata": {
    "pycharm": {
     "name": "#%% md\n"
    }
   },
   "source": [
    "## Cleaning the Data\n",
    "\n",
    "Snowball Stemmer is used since it is a more powerful stemmer than what is used by the research paper on IRFL.\n",
    "  \n",
    "In addition to NLTK's stop words, Python and Java keywords have been removed to provide a better model for analysis. The Python keywords will come from a built-in library called \"keyword\", while Java language keywords will be extracted from a file provided by the original GitHub source found here: https://github.com/exatoa/Bench4BL/blob/master/scripts/languages.txt\n",
    "\n",
    "Camel case words such as setValue will be split into two words, \"set\" and \"Value\".\n",
    "\n",
    "All letters will be turned into lowercases so there would not be any distinction between \"Value\" and \"value\", for example."
   ]
  },
  {
   "cell_type": "code",
   "execution_count": 3,
   "metadata": {},
   "outputs": [],
   "source": [
    "import re, string\n",
    "import pandas as pd\n",
    "import numpy as np\n",
    "import keyword\n",
    "from sklearn.feature_extraction.text import ENGLISH_STOP_WORDS\n",
    "from nltk.stem.snowball import SnowballStemmer\n",
    "import matplotlib.pyplot as plt \n",
    "import html\n",
    "\n",
    "%matplotlib inline\n",
    "\n",
    "stemmer = SnowballStemmer(\"english\")\n",
    "\n",
    "java_keywords = None\n",
    "with open('languages.txt', 'r') as file:\n",
    "    java_keywords = file.read().split('\\n')\n",
    "\n",
    "# set for o(1) lookup performance\n",
    "stop_words = set(list(ENGLISH_STOP_WORDS) + keyword.kwlist + java_keywords)\n",
    "\n",
    "def clean_text(text):\n",
    "    # This is to remove the double html encodings such as &amp;apos; into simply &apos;.\n",
    "    # This html encoding is easier to convert into punctuation or special characters for removal.\n",
    "    text = text.replace(\"&amp;\", '&')\n",
    "    text = html.unescape(text)\n",
    "\n",
    "    # split words and return them if it is not in the stop words list\n",
    "    def getIndividualWords(all_text:str) ->Iterable[str]:\n",
    "        # this regex splits apart camel case variables.\n",
    "        # first half of | handles cases which are traditionally camel cased, or are just lower case.\n",
    "        # second half of | handles cases where its all capital letters, ie a variable named VARIABLE\n",
    "        # this also implicitly gets rid of any punctuation and any whitespace. This is because the regex\n",
    "        # skips over any non-letter characters\n",
    "        for word in re.findall('[A-Z]*[a-z]+|[A-Z]{2,}', all_text):\n",
    "            word_lower=word.lower()\n",
    "            if word_lower not in stop_words:\n",
    "                yield stemmer.stem(word_lower)\n",
    "\n",
    "    text=' '.join(getIndividualWords(text))\n",
    "    return text\n",
    "\n",
    "# print(\"Before:\\n\", bug_report_raw[\"description\"][0])\n",
    "# print(\"\\n\\nAfter:\\n\", clean_text(bug_report_raw[\"description\"][0]))"
   ]
  },
  {
   "cell_type": "code",
   "execution_count": 4,
   "metadata": {},
   "outputs": [
    {
     "data": {
      "text/plain": "       id                                                fix text  \\\n0     217  [org.apache.commons.collections.map.flat3map.j...  NaN   \n1     214  [org.apache.commons.collections.testextendedpr...  NaN   \n2     222  [org.apache.commons.collections.testlistutils....  NaN   \n3     261  [org.apache.commons.collections.map.flat3map.j...  NaN   \n4     264  [org.apache.commons.collections.fasttreemap.java]  NaN   \n...   ...                                                ...  ...   \n1785  692  [org.wildfly.security.auth.realm.legacypropert...  NaN   \n1786  691  [org.wildfly.security.auth.realm.legacypropert...  NaN   \n1787  637  [org.wildfly.security.auth.server.serverauthen...  NaN   \n1788  757  [org.wildfly.security.ssl.sslauthenticationtes...  NaN   \n1789  808  [org.wildfly.security.auth.client.elytronxmlpa...  NaN   \n\n                  fixdate                                            summary  \\\n0     2006-07-18 22:02:11  Flat3Map.Entry.setValue() overwrites other Ent...   \n1     2006-07-18 22:44:33  ExtendedProperties - field include should be n...   \n2     2006-08-18 19:01:22    CollectionUtils removeAll is actually retainAll   \n3     2007-08-20 14:11:54  Flat3Map.remove() does not return the correct ...   \n4     2007-08-31 09:39:59                 FastTreeMap forgets the comparator   \n...                   ...                                                ...   \n1785  2016-11-02 09:35:48  Add tests for special chars in LegacyPropertie...   \n1786  2016-11-02 09:36:13  Elytron properties-realm is not compatible wit...   \n1787  2016-11-03 15:03:29  No log messages comming from Elytron - permiss...   \n1788  2016-11-21 09:24:47  Don&apos;t use String toUpperCase/toLowerCase ...   \n1789  2016-12-02 17:08:15                 XML Parsing Deferred into Function   \n\n                                            description      project  \\\n0     Flat3Map&amp;apos;s Entry objects will overwri...  COLLECTIONS   \n1     The field \"include\" in ExtendedProperties is c...  COLLECTIONS   \n2     The removeAll(Collection collection, Collectio...  COLLECTIONS   \n3             final Flat3Map m = new Flat3Map();\\n  ...  COLLECTIONS   \n4     In line 359 and 582 of the current 3.2 release...  COLLECTIONS   \n...                                                 ...          ...   \n1785  Add tests for issue https://issues.jboss.org/b...          ELY   \n1786  When users properties file (e.g. mgmt-users.pr...          ELY   \n1787  Elytron is missing any log messages related to...          ELY   \n1788  The String.toUpperCase() and String.toLowerCas...          ELY   \n1789  e.g.\\n\\n\\n\\n\\n\\n\\n                    case \"cl...          ELY   \n\n      average_precision  \n0                   0.0  \n1                   0.0  \n2                   0.0  \n3                   0.0  \n4                   0.0  \n...                 ...  \n1785                0.0  \n1786                0.0  \n1787                0.0  \n1788                0.0  \n1789                0.0  \n\n[1790 rows x 8 columns]",
      "text/html": "<div>\n<style scoped>\n    .dataframe tbody tr th:only-of-type {\n        vertical-align: middle;\n    }\n\n    .dataframe tbody tr th {\n        vertical-align: top;\n    }\n\n    .dataframe thead th {\n        text-align: right;\n    }\n</style>\n<table border=\"1\" class=\"dataframe\">\n  <thead>\n    <tr style=\"text-align: right;\">\n      <th></th>\n      <th>id</th>\n      <th>fix</th>\n      <th>text</th>\n      <th>fixdate</th>\n      <th>summary</th>\n      <th>description</th>\n      <th>project</th>\n      <th>average_precision</th>\n    </tr>\n  </thead>\n  <tbody>\n    <tr>\n      <th>0</th>\n      <td>217</td>\n      <td>[org.apache.commons.collections.map.flat3map.j...</td>\n      <td>NaN</td>\n      <td>2006-07-18 22:02:11</td>\n      <td>Flat3Map.Entry.setValue() overwrites other Ent...</td>\n      <td>Flat3Map&amp;amp;apos;s Entry objects will overwri...</td>\n      <td>COLLECTIONS</td>\n      <td>0.0</td>\n    </tr>\n    <tr>\n      <th>1</th>\n      <td>214</td>\n      <td>[org.apache.commons.collections.testextendedpr...</td>\n      <td>NaN</td>\n      <td>2006-07-18 22:44:33</td>\n      <td>ExtendedProperties - field include should be n...</td>\n      <td>The field \"include\" in ExtendedProperties is c...</td>\n      <td>COLLECTIONS</td>\n      <td>0.0</td>\n    </tr>\n    <tr>\n      <th>2</th>\n      <td>222</td>\n      <td>[org.apache.commons.collections.testlistutils....</td>\n      <td>NaN</td>\n      <td>2006-08-18 19:01:22</td>\n      <td>CollectionUtils removeAll is actually retainAll</td>\n      <td>The removeAll(Collection collection, Collectio...</td>\n      <td>COLLECTIONS</td>\n      <td>0.0</td>\n    </tr>\n    <tr>\n      <th>3</th>\n      <td>261</td>\n      <td>[org.apache.commons.collections.map.flat3map.j...</td>\n      <td>NaN</td>\n      <td>2007-08-20 14:11:54</td>\n      <td>Flat3Map.remove() does not return the correct ...</td>\n      <td>final Flat3Map m = new Flat3Map();\\n  ...</td>\n      <td>COLLECTIONS</td>\n      <td>0.0</td>\n    </tr>\n    <tr>\n      <th>4</th>\n      <td>264</td>\n      <td>[org.apache.commons.collections.fasttreemap.java]</td>\n      <td>NaN</td>\n      <td>2007-08-31 09:39:59</td>\n      <td>FastTreeMap forgets the comparator</td>\n      <td>In line 359 and 582 of the current 3.2 release...</td>\n      <td>COLLECTIONS</td>\n      <td>0.0</td>\n    </tr>\n    <tr>\n      <th>...</th>\n      <td>...</td>\n      <td>...</td>\n      <td>...</td>\n      <td>...</td>\n      <td>...</td>\n      <td>...</td>\n      <td>...</td>\n      <td>...</td>\n    </tr>\n    <tr>\n      <th>1785</th>\n      <td>692</td>\n      <td>[org.wildfly.security.auth.realm.legacypropert...</td>\n      <td>NaN</td>\n      <td>2016-11-02 09:35:48</td>\n      <td>Add tests for special chars in LegacyPropertie...</td>\n      <td>Add tests for issue https://issues.jboss.org/b...</td>\n      <td>ELY</td>\n      <td>0.0</td>\n    </tr>\n    <tr>\n      <th>1786</th>\n      <td>691</td>\n      <td>[org.wildfly.security.auth.realm.legacypropert...</td>\n      <td>NaN</td>\n      <td>2016-11-02 09:36:13</td>\n      <td>Elytron properties-realm is not compatible wit...</td>\n      <td>When users properties file (e.g. mgmt-users.pr...</td>\n      <td>ELY</td>\n      <td>0.0</td>\n    </tr>\n    <tr>\n      <th>1787</th>\n      <td>637</td>\n      <td>[org.wildfly.security.auth.server.serverauthen...</td>\n      <td>NaN</td>\n      <td>2016-11-03 15:03:29</td>\n      <td>No log messages comming from Elytron - permiss...</td>\n      <td>Elytron is missing any log messages related to...</td>\n      <td>ELY</td>\n      <td>0.0</td>\n    </tr>\n    <tr>\n      <th>1788</th>\n      <td>757</td>\n      <td>[org.wildfly.security.ssl.sslauthenticationtes...</td>\n      <td>NaN</td>\n      <td>2016-11-21 09:24:47</td>\n      <td>Don&amp;apos;t use String toUpperCase/toLowerCase ...</td>\n      <td>The String.toUpperCase() and String.toLowerCas...</td>\n      <td>ELY</td>\n      <td>0.0</td>\n    </tr>\n    <tr>\n      <th>1789</th>\n      <td>808</td>\n      <td>[org.wildfly.security.auth.client.elytronxmlpa...</td>\n      <td>NaN</td>\n      <td>2016-12-02 17:08:15</td>\n      <td>XML Parsing Deferred into Function</td>\n      <td>e.g.\\n\\n\\n\\n\\n\\n\\n                    case \"cl...</td>\n      <td>ELY</td>\n      <td>0.0</td>\n    </tr>\n  </tbody>\n</table>\n<p>1790 rows × 8 columns</p>\n</div>"
     },
     "metadata": {},
     "output_type": "display_data"
    },
    {
     "data": {
      "text/plain": "                                             filename  \\\n0   \\gitrepo\\src\\java\\org\\apache\\commons\\collectio...   \n1   \\gitrepo\\src\\java\\org\\apache\\commons\\collectio...   \n2   \\gitrepo\\src\\java\\org\\apache\\commons\\collectio...   \n3   \\gitrepo\\src\\java\\org\\apache\\commons\\collectio...   \n4   \\gitrepo\\src\\java\\org\\apache\\commons\\collectio...   \n..                                                ...   \n63  \\gitrepo\\src\\main\\java\\org\\wildfly\\security\\ut...   \n64  \\gitrepo\\src\\main\\java\\org\\wildfly\\security\\_p...   \n65  \\gitrepo\\src\\test\\java\\org\\wildfly\\security\\ma...   \n66  \\gitrepo\\src\\test\\java\\org\\wildfly\\security\\ma...   \n67  \\gitrepo\\src\\test\\java\\org\\wildfly\\security\\ss...   \n\n                                     unprocessed_code      project  \n0   /*\\n *  Licensed to the Apache Software Founda...  COLLECTIONS  \n1   /*\\n *  Licensed to the Apache Software Founda...  COLLECTIONS  \n2   /*\\n *  Licensed to the Apache Software Founda...  COLLECTIONS  \n3   /*\\n *  Licensed to the Apache Software Founda...  COLLECTIONS  \n4   /*\\n *  Licensed to the Apache Software Founda...  COLLECTIONS  \n..                                                ...          ...  \n63  /*\\n * JBoss, Home of Professional Open Source...          ELY  \n64  /*\\n * JBoss, Home of Professional Open Source...          ELY  \n65  /*\\n * JBoss, Home of Professional Open Source...          ELY  \n66  /*\\n * JBoss, Home of Professional Open Source...          ELY  \n67  /*\\n * JBoss, Home of Professional Open Source...          ELY  \n\n[10461 rows x 3 columns]",
      "text/html": "<div>\n<style scoped>\n    .dataframe tbody tr th:only-of-type {\n        vertical-align: middle;\n    }\n\n    .dataframe tbody tr th {\n        vertical-align: top;\n    }\n\n    .dataframe thead th {\n        text-align: right;\n    }\n</style>\n<table border=\"1\" class=\"dataframe\">\n  <thead>\n    <tr style=\"text-align: right;\">\n      <th></th>\n      <th>filename</th>\n      <th>unprocessed_code</th>\n      <th>project</th>\n    </tr>\n  </thead>\n  <tbody>\n    <tr>\n      <th>0</th>\n      <td>\\gitrepo\\src\\java\\org\\apache\\commons\\collectio...</td>\n      <td>/*\\n *  Licensed to the Apache Software Founda...</td>\n      <td>COLLECTIONS</td>\n    </tr>\n    <tr>\n      <th>1</th>\n      <td>\\gitrepo\\src\\java\\org\\apache\\commons\\collectio...</td>\n      <td>/*\\n *  Licensed to the Apache Software Founda...</td>\n      <td>COLLECTIONS</td>\n    </tr>\n    <tr>\n      <th>2</th>\n      <td>\\gitrepo\\src\\java\\org\\apache\\commons\\collectio...</td>\n      <td>/*\\n *  Licensed to the Apache Software Founda...</td>\n      <td>COLLECTIONS</td>\n    </tr>\n    <tr>\n      <th>3</th>\n      <td>\\gitrepo\\src\\java\\org\\apache\\commons\\collectio...</td>\n      <td>/*\\n *  Licensed to the Apache Software Founda...</td>\n      <td>COLLECTIONS</td>\n    </tr>\n    <tr>\n      <th>4</th>\n      <td>\\gitrepo\\src\\java\\org\\apache\\commons\\collectio...</td>\n      <td>/*\\n *  Licensed to the Apache Software Founda...</td>\n      <td>COLLECTIONS</td>\n    </tr>\n    <tr>\n      <th>...</th>\n      <td>...</td>\n      <td>...</td>\n      <td>...</td>\n    </tr>\n    <tr>\n      <th>63</th>\n      <td>\\gitrepo\\src\\main\\java\\org\\wildfly\\security\\ut...</td>\n      <td>/*\\n * JBoss, Home of Professional Open Source...</td>\n      <td>ELY</td>\n    </tr>\n    <tr>\n      <th>64</th>\n      <td>\\gitrepo\\src\\main\\java\\org\\wildfly\\security\\_p...</td>\n      <td>/*\\n * JBoss, Home of Professional Open Source...</td>\n      <td>ELY</td>\n    </tr>\n    <tr>\n      <th>65</th>\n      <td>\\gitrepo\\src\\test\\java\\org\\wildfly\\security\\ma...</td>\n      <td>/*\\n * JBoss, Home of Professional Open Source...</td>\n      <td>ELY</td>\n    </tr>\n    <tr>\n      <th>66</th>\n      <td>\\gitrepo\\src\\test\\java\\org\\wildfly\\security\\ma...</td>\n      <td>/*\\n * JBoss, Home of Professional Open Source...</td>\n      <td>ELY</td>\n    </tr>\n    <tr>\n      <th>67</th>\n      <td>\\gitrepo\\src\\test\\java\\org\\wildfly\\security\\ss...</td>\n      <td>/*\\n * JBoss, Home of Professional Open Source...</td>\n      <td>ELY</td>\n    </tr>\n  </tbody>\n</table>\n<p>10461 rows × 3 columns</p>\n</div>"
     },
     "metadata": {},
     "output_type": "display_data"
    },
    {
     "data": {
      "text/plain": "                                                    fix  \\\n0     [org.apache.commons.collections.map.flat3map.j...   \n1     [org.apache.commons.collections.testextendedpr...   \n2     [org.apache.commons.collections.testlistutils....   \n3     [org.apache.commons.collections.map.flat3map.j...   \n4     [org.apache.commons.collections.fasttreemap.java]   \n...                                                 ...   \n1770  [org.wildfly.security.manager.wildflysecuritym...   \n1771  [org.wildfly.security.ssl.ciphersuiteselector....   \n1783  [org.wildfly.security._private.elytronmessages...   \n1784           [org.wildfly.security.ssl.protocol.java]   \n1787  [org.wildfly.security._private.elytronmessages...   \n\n                                          processed_all      project  \n0     flat map s entri object overwrit entri s valu ...  COLLECTIONS  \n1     field includ extend properti current instanc s...  COLLECTIONS  \n2     remov collect collect collect remov method cal...  COLLECTIONS  \n3     flat map m flat map m integ integ m integ inte...  COLLECTIONS  \n4     line current releas replac map tree map map tr...  COLLECTIONS  \n...                                                 ...          ...  \n1770  infinit loop elytron permiss collect read reso...          ELY  \n1771  cipher suit avail handshak https undertow list...          ELY  \n1783  elytron miss log messag relat group assign log...          ELY  \n1784  protocol type list descript enabl protocol exp...          ELY  \n1787  elytron miss log messag relat permiss assign l...          ELY  \n\n[1402 rows x 3 columns]",
      "text/html": "<div>\n<style scoped>\n    .dataframe tbody tr th:only-of-type {\n        vertical-align: middle;\n    }\n\n    .dataframe tbody tr th {\n        vertical-align: top;\n    }\n\n    .dataframe thead th {\n        text-align: right;\n    }\n</style>\n<table border=\"1\" class=\"dataframe\">\n  <thead>\n    <tr style=\"text-align: right;\">\n      <th></th>\n      <th>fix</th>\n      <th>processed_all</th>\n      <th>project</th>\n    </tr>\n  </thead>\n  <tbody>\n    <tr>\n      <th>0</th>\n      <td>[org.apache.commons.collections.map.flat3map.j...</td>\n      <td>flat map s entri object overwrit entri s valu ...</td>\n      <td>COLLECTIONS</td>\n    </tr>\n    <tr>\n      <th>1</th>\n      <td>[org.apache.commons.collections.testextendedpr...</td>\n      <td>field includ extend properti current instanc s...</td>\n      <td>COLLECTIONS</td>\n    </tr>\n    <tr>\n      <th>2</th>\n      <td>[org.apache.commons.collections.testlistutils....</td>\n      <td>remov collect collect collect remov method cal...</td>\n      <td>COLLECTIONS</td>\n    </tr>\n    <tr>\n      <th>3</th>\n      <td>[org.apache.commons.collections.map.flat3map.j...</td>\n      <td>flat map m flat map m integ integ m integ inte...</td>\n      <td>COLLECTIONS</td>\n    </tr>\n    <tr>\n      <th>4</th>\n      <td>[org.apache.commons.collections.fasttreemap.java]</td>\n      <td>line current releas replac map tree map map tr...</td>\n      <td>COLLECTIONS</td>\n    </tr>\n    <tr>\n      <th>...</th>\n      <td>...</td>\n      <td>...</td>\n      <td>...</td>\n    </tr>\n    <tr>\n      <th>1770</th>\n      <td>[org.wildfly.security.manager.wildflysecuritym...</td>\n      <td>infinit loop elytron permiss collect read reso...</td>\n      <td>ELY</td>\n    </tr>\n    <tr>\n      <th>1771</th>\n      <td>[org.wildfly.security.ssl.ciphersuiteselector....</td>\n      <td>cipher suit avail handshak https undertow list...</td>\n      <td>ELY</td>\n    </tr>\n    <tr>\n      <th>1783</th>\n      <td>[org.wildfly.security._private.elytronmessages...</td>\n      <td>elytron miss log messag relat group assign log...</td>\n      <td>ELY</td>\n    </tr>\n    <tr>\n      <th>1784</th>\n      <td>[org.wildfly.security.ssl.protocol.java]</td>\n      <td>protocol type list descript enabl protocol exp...</td>\n      <td>ELY</td>\n    </tr>\n    <tr>\n      <th>1787</th>\n      <td>[org.wildfly.security._private.elytronmessages...</td>\n      <td>elytron miss log messag relat permiss assign l...</td>\n      <td>ELY</td>\n    </tr>\n  </tbody>\n</table>\n<p>1402 rows × 3 columns</p>\n</div>"
     },
     "metadata": {},
     "output_type": "display_data"
    },
    {
     "data": {
      "text/plain": "                                             filename  \\\n0   \\gitrepo\\src\\java\\org\\apache\\commons\\collectio...   \n1   \\gitrepo\\src\\java\\org\\apache\\commons\\collectio...   \n2   \\gitrepo\\src\\java\\org\\apache\\commons\\collectio...   \n3   \\gitrepo\\src\\java\\org\\apache\\commons\\collectio...   \n4   \\gitrepo\\src\\java\\org\\apache\\commons\\collectio...   \n..                                                ...   \n63  \\gitrepo\\src\\main\\java\\org\\wildfly\\security\\ut...   \n64  \\gitrepo\\src\\main\\java\\org\\wildfly\\security\\_p...   \n65  \\gitrepo\\src\\test\\java\\org\\wildfly\\security\\ma...   \n66  \\gitrepo\\src\\test\\java\\org\\wildfly\\security\\ma...   \n67  \\gitrepo\\src\\test\\java\\org\\wildfly\\security\\ss...   \n\n                                       processed_code      project  \n0   licens apach softwar foundat asf contributor l...  COLLECTIONS  \n1   licens apach softwar foundat asf contributor l...  COLLECTIONS  \n2   licens apach softwar foundat asf contributor l...  COLLECTIONS  \n3   licens apach softwar foundat asf contributor l...  COLLECTIONS  \n4   licens apach softwar foundat asf contributor l...  COLLECTIONS  \n..                                                ...          ...  \n63  jboss home profession open sourc copyright red...          ELY  \n64  jboss home profession open sourc copyright red...          ELY  \n65  jboss home profession open sourc copyright red...          ELY  \n66  jboss home profession open sourc copyright red...          ELY  \n67  jboss home profession open sourc copyright red...          ELY  \n\n[10461 rows x 3 columns]",
      "text/html": "<div>\n<style scoped>\n    .dataframe tbody tr th:only-of-type {\n        vertical-align: middle;\n    }\n\n    .dataframe tbody tr th {\n        vertical-align: top;\n    }\n\n    .dataframe thead th {\n        text-align: right;\n    }\n</style>\n<table border=\"1\" class=\"dataframe\">\n  <thead>\n    <tr style=\"text-align: right;\">\n      <th></th>\n      <th>filename</th>\n      <th>processed_code</th>\n      <th>project</th>\n    </tr>\n  </thead>\n  <tbody>\n    <tr>\n      <th>0</th>\n      <td>\\gitrepo\\src\\java\\org\\apache\\commons\\collectio...</td>\n      <td>licens apach softwar foundat asf contributor l...</td>\n      <td>COLLECTIONS</td>\n    </tr>\n    <tr>\n      <th>1</th>\n      <td>\\gitrepo\\src\\java\\org\\apache\\commons\\collectio...</td>\n      <td>licens apach softwar foundat asf contributor l...</td>\n      <td>COLLECTIONS</td>\n    </tr>\n    <tr>\n      <th>2</th>\n      <td>\\gitrepo\\src\\java\\org\\apache\\commons\\collectio...</td>\n      <td>licens apach softwar foundat asf contributor l...</td>\n      <td>COLLECTIONS</td>\n    </tr>\n    <tr>\n      <th>3</th>\n      <td>\\gitrepo\\src\\java\\org\\apache\\commons\\collectio...</td>\n      <td>licens apach softwar foundat asf contributor l...</td>\n      <td>COLLECTIONS</td>\n    </tr>\n    <tr>\n      <th>4</th>\n      <td>\\gitrepo\\src\\java\\org\\apache\\commons\\collectio...</td>\n      <td>licens apach softwar foundat asf contributor l...</td>\n      <td>COLLECTIONS</td>\n    </tr>\n    <tr>\n      <th>...</th>\n      <td>...</td>\n      <td>...</td>\n      <td>...</td>\n    </tr>\n    <tr>\n      <th>63</th>\n      <td>\\gitrepo\\src\\main\\java\\org\\wildfly\\security\\ut...</td>\n      <td>jboss home profession open sourc copyright red...</td>\n      <td>ELY</td>\n    </tr>\n    <tr>\n      <th>64</th>\n      <td>\\gitrepo\\src\\main\\java\\org\\wildfly\\security\\_p...</td>\n      <td>jboss home profession open sourc copyright red...</td>\n      <td>ELY</td>\n    </tr>\n    <tr>\n      <th>65</th>\n      <td>\\gitrepo\\src\\test\\java\\org\\wildfly\\security\\ma...</td>\n      <td>jboss home profession open sourc copyright red...</td>\n      <td>ELY</td>\n    </tr>\n    <tr>\n      <th>66</th>\n      <td>\\gitrepo\\src\\test\\java\\org\\wildfly\\security\\ma...</td>\n      <td>jboss home profession open sourc copyright red...</td>\n      <td>ELY</td>\n    </tr>\n    <tr>\n      <th>67</th>\n      <td>\\gitrepo\\src\\test\\java\\org\\wildfly\\security\\ss...</td>\n      <td>jboss home profession open sourc copyright red...</td>\n      <td>ELY</td>\n    </tr>\n  </tbody>\n</table>\n<p>10461 rows × 3 columns</p>\n</div>"
     },
     "metadata": {},
     "output_type": "display_data"
    }
   ],
   "source": [
    "def getProcessedData():\n",
    "    bug_report_raw,source_code_raw=getRawData()\n",
    "    filter_missing_files=filterBugReportsMissingFiles(bug_report_raw,source_code_raw)\n",
    "    filter_missing_files[\"processed_description\"]=filter_missing_files[\"description\"].map(clean_text)\n",
    "    filter_missing_files[\"processed_summary\"]=filter_missing_files[\"summary\"].map(clean_text)\n",
    "    filter_missing_files[\"processed_all\"]=filter_missing_files[\"processed_description\"] + filter_missing_files[\"processed_summary\"]\n",
    "    filter_missing_files=filter_missing_files[[\"fix\",\"processed_all\",\"project\"]]\n",
    "    display(filter_missing_files)\n",
    "    source_code_raw[\"processed_code\"]=source_code_raw[\"unprocessed_code\"].map(clean_text)\n",
    "    source_code_raw=source_code_raw[[\"filename\",\"processed_code\",\"project\"]]\n",
    "    display(source_code_raw)\n",
    "    return filter_missing_files, source_code_raw\n",
    "\n",
    "processed_bug_report,processed_source_code=getProcessedData()"
   ]
  },
  {
   "cell_type": "code",
   "execution_count": 15,
   "metadata": {
    "pycharm": {
     "name": "#%%\n"
    }
   },
   "outputs": [
    {
     "data": {
      "text/plain": "array([[0., 0., 0., ..., 0., 0., 0.],\n       [0., 0., 0., ..., 0., 0., 0.],\n       [0., 0., 0., ..., 0., 0., 0.],\n       ...,\n       [0., 0., 0., ..., 0., 0., 0.],\n       [0., 0., 0., ..., 0., 0., 0.],\n       [0., 0., 0., ..., 0., 0., 0.]])"
     },
     "execution_count": 15,
     "metadata": {},
     "output_type": "execute_result"
    }
   ],
   "source": [
    "from scipy.sparse import lil_matrix\n",
    "\n",
    "def getLabelsForBugReport()->np.ndarray:\n",
    "    source_file_names_dot_format=processed_source_code[\"filename\"].map(lambda fname:\"org\"+fname.partition(\"org\")[2].replace(\"\\\\\",\".\"))\n",
    "\n",
    "    fileToIndex={}\n",
    "    for idx,value in enumerate(source_file_names_dot_format.values):\n",
    "        fileToIndex[value]=idx\n",
    "    num_files=len(source_file_names_dot_format)\n",
    "    num_bug_reports=len(processed_bug_report[\"fix\"])\n",
    "    matrix=lil_matrix((num_bug_reports,num_files))\n",
    "    for idx,file_names in enumerate(processed_bug_report[\"fix\"]):\n",
    "        for file_name in list(file_names):\n",
    "            try:\n",
    "                matrix[idx,fileToIndex[file_name]]=1\n",
    "            except KeyError:\n",
    "                # note, there are many files which were 'fixes' in bug reports, but where not in the tar files given on d2l.\n",
    "                # we would assume then that the tar files posted on d2l were probably missing some source files (our theory\n",
    "                # is the source code is from an older version of the software)\n",
    "                pass\n",
    "    return matrix.toarray()\n",
    "\n",
    "\n",
    "\n",
    "labels=getLabelsForBugReport()\n",
    "labels"
   ]
  },
  {
   "cell_type": "code",
   "execution_count": 6,
   "metadata": {
    "pycharm": {
     "name": "#%%\n"
    }
   },
   "outputs": [
    {
     "data": {
      "text/plain": "<10461x11984 sparse matrix of type '<class 'numpy.float64'>'\n\twith 910922 stored elements in Compressed Sparse Row format>"
     },
     "metadata": {},
     "output_type": "display_data"
    },
    {
     "data": {
      "text/plain": "<1402x11984 sparse matrix of type '<class 'numpy.float64'>'\n\twith 53861 stored elements in Compressed Sparse Row format>"
     },
     "metadata": {},
     "output_type": "display_data"
    },
    {
     "data": {
      "text/plain": "array([[7.00226962e-02, 7.84133356e-02, 6.30993610e-03, ...,\n        7.64040827e-02, 1.00947386e-03, 9.23715463e-03],\n       [1.02292219e-02, 2.08101947e-02, 4.00015104e-03, ...,\n        2.46271443e-02, 1.45008980e-03, 1.12057143e-03],\n       [1.22357255e-01, 2.96698794e-01, 1.85910434e-02, ...,\n        8.86713076e-04, 0.00000000e+00, 0.00000000e+00],\n       ...,\n       [9.73058591e-03, 0.00000000e+00, 5.20976904e-03, ...,\n        7.25050251e-04, 3.53287228e-03, 0.00000000e+00],\n       [5.12872979e-03, 8.62310418e-03, 4.30117443e-03, ...,\n        1.94523007e-02, 7.01197245e-03, 3.51704739e-02],\n       [1.10141567e-02, 3.18678375e-04, 5.75575703e-03, ...,\n        5.34586298e-03, 4.66788826e-03, 2.11818555e-04]])"
     },
     "execution_count": 6,
     "metadata": {},
     "output_type": "execute_result"
    }
   ],
   "source": [
    "xtrain, xtest = None, None\n",
    "def method1():\n",
    "    method1_vectorizer=TfidfVectorizer(lowercase=True,)\n",
    "    method1_code_vector=method1_vectorizer.fit_transform(processed_source_code[\"processed_code\"].to_numpy())\n",
    "    query_vector=method1_vectorizer.transform(processed_bug_report[\"processed_all\"].to_numpy())\n",
    "    xtrain = method1_code_vector\n",
    "    xtest = query_vector\n",
    "    display(method1_code_vector)\n",
    "    display(query_vector)\n",
    "    result = cosine_similarity(query_vector,method1_code_vector)\n",
    "    return result\n",
    "\n",
    "similarities=method1()\n",
    "similarities"
   ]
  },
  {
   "cell_type": "code",
   "execution_count": 7,
   "outputs": [],
   "source": [
    "# y_true = np.array([[0, 0, 1], [0, 1, 0]])\n",
    "# y_score = np.array([[0.75, 0.5, 1], [1, 0.2, 0.1]])\n",
    "# label_ranking_average_precision_score(y_true, y_score)"
   ],
   "metadata": {
    "collapsed": false,
    "pycharm": {
     "name": "#%%\n"
    }
   }
  },
  {
   "cell_type": "code",
   "execution_count": 10,
   "outputs": [
    {
     "data": {
      "text/plain": "0.33702405192970786"
     },
     "execution_count": 10,
     "metadata": {},
     "output_type": "execute_result"
    }
   ],
   "source": [
    "def getMrrValue(denseLabels:np.ndarray, similarities:np.ndarray):\n",
    "    # first, create a version of the labels which only has the maximum label value.\n",
    "    similarities_with_labels=denseLabels*similarities\n",
    "    max_valued_label_indexes=np.argmax(similarities_with_labels,axis=1)\n",
    "    max_similar_labels=np.zeros_like(similarities_with_labels,dtype=np.byte)\n",
    "    max_similar_labels[np.arange(len(similarities_with_labels)),max_valued_label_indexes]=1\n",
    "\n",
    "    # then simply call label_ranking_average_precision_score, but only with the maximum labels.\n",
    "    # this will make it equivalent to mrr, according to sklearns documentation.\n",
    "    # see https://scikit-learn.org/stable/modules/model_evaluation.html#label-ranking-average-precision\n",
    "    return label_ranking_average_precision_score(max_similar_labels,similarities)\n",
    "\n",
    "mrr_score_method1=getMrrValue(labels,similarities)\n",
    "mrr_score_method1\n"
   ],
   "metadata": {
    "collapsed": false,
    "pycharm": {
     "name": "#%%\n"
    }
   }
  },
  {
   "cell_type": "code",
   "execution_count": 11,
   "metadata": {
    "pycharm": {
     "name": "#%%\n"
    }
   },
   "outputs": [
    {
     "data": {
      "text/plain": "0.24728994889504494"
     },
     "execution_count": 11,
     "metadata": {},
     "output_type": "execute_result"
    }
   ],
   "source": [
    "def getMAPValue(denseLabels:np.ndarray,similarities:np.ndarray):\n",
    "    # simply call sklearns label_ranking_average_precision_score\n",
    "    # while they are explained differently, and use different terminology in their explanations,\n",
    "    # they are mathematically equivalent.\n",
    "    return label_ranking_average_precision_score(denseLabels,similarities)\n",
    "\n",
    "\n",
    "map_score_method1=getMAPValue(labels,similarities)\n",
    "map_score_method1"
   ]
  },
  {
   "cell_type": "code",
   "execution_count": 16,
   "outputs": [
    {
     "data": {
      "text/plain": "0.4231306498624228"
     },
     "execution_count": 16,
     "metadata": {},
     "output_type": "execute_result"
    }
   ],
   "source": [
    "\n",
    "def getNDCGValue(denseLabels:np.ndarray,similarities:np.ndarray,num_considered=None):\n",
    "    # https://scikit-learn.org/stable/modules/generated/sklearn.metrics.ndcg_score.html\n",
    "    return ndcg_score(denseLabels,similarities,k=num_considered)\n",
    "\n",
    "ndcg_score_method1=getNDCGValue(labels,similarities)\n",
    "ndcg_score_method1"
   ],
   "metadata": {
    "collapsed": false,
    "pycharm": {
     "name": "#%%\n"
    }
   }
  },
  {
   "cell_type": "code",
   "execution_count": null,
   "outputs": [],
   "source": [
    "from sklearn.metrics import average_precision_score\n",
    "from sklearn.preprocessing import scale\n",
    "import heapq\n",
    "# average is set to weighted, as each file type would have more bugs than others.\n",
    "# map_score = average_precision_score(labels.todense(), similarities, average=\"weighted\")\n",
    "# map_score\n",
    "\n",
    "def get_top_k_indices(matrix, k):\n",
    "    return np.argpartition(matrix, len(matrix) - k)[-k:]\n",
    "\n",
    "indices = [get_top_k_indices(row, 5).tolist() for row in similarities]\n",
    "indices"
   ],
   "metadata": {
    "collapsed": false,
    "pycharm": {
     "name": "#%%\n"
    }
   }
  },
  {
   "cell_type": "code",
   "execution_count": 19,
   "outputs": [
    {
     "data": {
      "text/plain": "   number_reccomendations  ndcg_score\n0                       5    0.259015\n1                      10    0.294381\n2                      15    0.311474\n3                      20    0.325335\n4                      25    0.333313\n5                      30    0.339104\n6                      35    0.345128\n7                      40    0.349615\n8                      45    0.353282\n9                      50    0.356670",
      "text/html": "<div>\n<style scoped>\n    .dataframe tbody tr th:only-of-type {\n        vertical-align: middle;\n    }\n\n    .dataframe tbody tr th {\n        vertical-align: top;\n    }\n\n    .dataframe thead th {\n        text-align: right;\n    }\n</style>\n<table border=\"1\" class=\"dataframe\">\n  <thead>\n    <tr style=\"text-align: right;\">\n      <th></th>\n      <th>number_reccomendations</th>\n      <th>ndcg_score</th>\n    </tr>\n  </thead>\n  <tbody>\n    <tr>\n      <th>0</th>\n      <td>5</td>\n      <td>0.259015</td>\n    </tr>\n    <tr>\n      <th>1</th>\n      <td>10</td>\n      <td>0.294381</td>\n    </tr>\n    <tr>\n      <th>2</th>\n      <td>15</td>\n      <td>0.311474</td>\n    </tr>\n    <tr>\n      <th>3</th>\n      <td>20</td>\n      <td>0.325335</td>\n    </tr>\n    <tr>\n      <th>4</th>\n      <td>25</td>\n      <td>0.333313</td>\n    </tr>\n    <tr>\n      <th>5</th>\n      <td>30</td>\n      <td>0.339104</td>\n    </tr>\n    <tr>\n      <th>6</th>\n      <td>35</td>\n      <td>0.345128</td>\n    </tr>\n    <tr>\n      <th>7</th>\n      <td>40</td>\n      <td>0.349615</td>\n    </tr>\n    <tr>\n      <th>8</th>\n      <td>45</td>\n      <td>0.353282</td>\n    </tr>\n    <tr>\n      <th>9</th>\n      <td>50</td>\n      <td>0.356670</td>\n    </tr>\n  </tbody>\n</table>\n</div>"
     },
     "execution_count": 19,
     "metadata": {},
     "output_type": "execute_result"
    }
   ],
   "source": [
    "scores_to_plot=pd.DataFrame([{\"number_recommendations\":top_k_index,\"ndcg_score\":getNDCGValue(labels,similarities,top_k_index)} for top_k_index in range(5,51,5)])\n",
    "scores_to_plot"
   ],
   "metadata": {
    "collapsed": false,
    "pycharm": {
     "name": "#%%\n"
    }
   }
  },
  {
   "cell_type": "code",
   "execution_count": null,
   "outputs": [],
   "source": [
    "top_values = []\n",
    "top_labels = []\n",
    "row = 0\n",
    "for item in indices:\n",
    "    top_values.append([similarities[row, col] for col in item])\n",
    "    top_labels.append([labels[row, col] for col in item])\n",
    "    row += 1\n",
    "# print(top_values)\n",
    "print(top_labels)"
   ],
   "metadata": {
    "collapsed": false,
    "pycharm": {
     "name": "#%%\n"
    }
   }
  },
  {
   "cell_type": "code",
   "execution_count": null,
   "outputs": [],
   "source": [
    "# map_score = average_precision_score(top_labels[2], top_values[2])\n",
    "# test = label_ranking_average_precision_score(np.array([top_labels[2]]), np.array([top_values[2]]))\n",
    "# print(map_score)\n",
    "# print(test)\n",
    "#\n",
    "# denseLabels=labels.todense()\n",
    "#\n",
    "# i = 0\n",
    "# while i < len(top_values):\n",
    "#\n",
    "#     percision=average_precision_score(denseLabels[i], [i])\n",
    "#     mrr=label_ranking_average_precision_score(denseLabels[i], m[i])\n",
    "\n",
    "\n",
    "    # i += 1\n"
   ],
   "metadata": {
    "collapsed": false,
    "pycharm": {
     "name": "#%%\n"
    }
   }
  },
  {
   "cell_type": "code",
   "execution_count": null,
   "metadata": {
    "pycharm": {
     "name": "#%%\n"
    }
   },
   "outputs": [],
   "source": [
    "top_values = []\n",
    "top_labels = []\n",
    "row = 0\n",
    "for item in indices:\n",
    "    top_values.append([similarities[row, col] for col in item])\n",
    "    top_labels.append([labels[row, col] for col in item])\n",
    "    row += 1\n",
    "# print(top_values)\n",
    "print(top_labels)\n",
    "\n",
    "\n",
    "\n",
    "# todo top 5, 10."
   ]
  }
 ],
 "metadata": {
  "kernelspec": {
   "display_name": "Python 3",
   "language": "python",
   "name": "python3"
  },
  "language_info": {
   "codemirror_mode": {
    "name": "ipython",
    "version": 3
   },
   "file_extension": ".py",
   "mimetype": "text/x-python",
   "name": "python",
   "nbconvert_exporter": "python",
   "pygments_lexer": "ipython3",
   "version": "3.8.2"
  }
 },
 "nbformat": 4,
 "nbformat_minor": 4
}